{
 "cells": [
  {
   "cell_type": "markdown",
   "id": "6fbd83ce",
   "metadata": {},
   "source": [
    "### Steps to proceed:\n",
    "#### 1. State the problem clearly. Identify the input and output formats.\n",
    "\n",
    " - We need to write a program to find the position of a given number in a list of numbers arranged in decreasing order. We also need to minimize the number of times we access elements from the list.\n",
    " \n",
    "#### Inputs\n",
    "\n",
    "1. `cards`: A list of numbers in decreasing order. Eg. `[13,11,10,7,4,3,1]`\n",
    "1. `query`: A number, whose position in the array is to be determined. E.g. `7`\n",
    "\n",
    "#### Output\n",
    "\n",
    "1. `position`: The position of `query` in the list `cards`. E.g. `3` in the above case (counting from `0`)"
   ]
  },
  {
   "cell_type": "code",
   "execution_count": 1,
   "id": "6b967946",
   "metadata": {},
   "outputs": [],
   "source": [
    "# signature of the function\n",
    "def locate_card(cards, query):\n",
    "    pass"
   ]
  },
  {
   "cell_type": "markdown",
   "id": "015f8f12",
   "metadata": {},
   "source": [
    "#### Tips:\n",
    "- Name your function appropriately and thinkn carefully about the signature\n",
    "- Discuss the problem with the interviewer if your are unsure how to frame it in abstract terms\n",
    "- Use descriptive variable names, otherwise you may forget what a variable represents"
   ]
  },
  {
   "cell_type": "markdown",
   "id": "736cb0ec",
   "metadata": {},
   "source": [
    "#### 2. Come up with some example inputs and outputs. Try to cover all edge cases.\n",
    "\n",
    "Before we start implementing our function, it would be useful to come up with some example inputs and outputs which we can use later to test our problem. We'll refer to them as *test cases*.\n",
    "\n",
    "Here is the test case described in the example above."
   ]
  },
  {
   "cell_type": "code",
   "execution_count": 2,
   "id": "6e9ac17a",
   "metadata": {},
   "outputs": [],
   "source": [
    "cards = [13,11,10,7,4,3,1,0]\n",
    "query = 7\n",
    "output = 3"
   ]
  },
  {
   "cell_type": "markdown",
   "id": "d7e4d48b",
   "metadata": {},
   "source": [
    "We can test our functions by passing the inputs into functions and comparing the result with the expected output."
   ]
  },
  {
   "cell_type": "code",
   "execution_count": 3,
   "id": "13189d0d",
   "metadata": {},
   "outputs": [
    {
     "name": "stdout",
     "output_type": "stream",
     "text": [
      "None\n"
     ]
    }
   ],
   "source": [
    "result = locate_card(cards, query)\n",
    "print(result)"
   ]
  },
  {
   "cell_type": "code",
   "execution_count": 4,
   "id": "ee38b5da",
   "metadata": {},
   "outputs": [
    {
     "data": {
      "text/plain": [
       "False"
      ]
     },
     "execution_count": 4,
     "metadata": {},
     "output_type": "execute_result"
    }
   ],
   "source": [
    "result == output"
   ]
  },
  {
   "cell_type": "markdown",
   "id": "7638de94",
   "metadata": {},
   "source": [
    "Obviously, the two results does not match the output as we have not yet implemented the function. \n",
    "\n",
    "We'll represent our test cases as dictionaried to make it easier to test them once we write implement our function. For example, the above test case can be represented as follows:"
   ]
  },
  {
   "cell_type": "code",
   "execution_count": 5,
   "id": "32df886c",
   "metadata": {},
   "outputs": [],
   "source": [
    "test = {\n",
    "    'input':{\n",
    "        'cards': [13, 11, 10, 7, 4, 3, 1, 0],\n",
    "        'query': 7\n",
    "    },\n",
    "    'output': 3\n",
    "}"
   ]
  },
  {
   "cell_type": "markdown",
   "id": "057525a7",
   "metadata": {},
   "source": [
    "The function can now be tested as follows."
   ]
  },
  {
   "cell_type": "code",
   "execution_count": 7,
   "id": "f4c800bb",
   "metadata": {},
   "outputs": [
    {
     "data": {
      "text/plain": [
       "False"
      ]
     },
     "execution_count": 7,
     "metadata": {},
     "output_type": "execute_result"
    }
   ],
   "source": [
    "locate_card(**test['input']) == test['output']\n",
    "\n",
    "# locate_card(test['input']['cards'], test['input']['query']) == test['output']"
   ]
  },
  {
   "cell_type": "markdown",
   "id": "93ba4924",
   "metadata": {},
   "source": [
    "Our function should be able to handle any set of valid inputs as we pass into it. Here's a list of some possible variations we might encounter:\n",
    "\n",
    "1. The number `query` occurs somewhere in the middle of the list `cards`.\n",
    "1. `query` is the first element in `cards`.\n",
    "1. `query` is the last element in `cards`.\n",
    "1. The list `cards` contains just one element, which is query.\n",
    "1. The list `cards` does not contain any number `query`.\n",
    "1. The list `cards` is empty.\n",
    "1. The list `cards` contains repeating numbers.\n",
    "1. The number `query` occurs at more than one position in `cards`.\n",
    "\n",
    "While edge cases may not occur frequently, your programs should be able to handle an edge case, otherwise they may fail in unexpected ways. Let's create some more test cases for the variations listed above. We'll store all our test cases in an list for easier testing."
   ]
  },
  {
   "cell_type": "code",
   "execution_count": 8,
   "id": "45b2aaa3",
   "metadata": {},
   "outputs": [],
   "source": [
    "tests = []"
   ]
  },
  {
   "cell_type": "code",
   "execution_count": 30,
   "id": "0ef556e9",
   "metadata": {},
   "outputs": [],
   "source": [
    "# query occurs in the middle\n",
    "tests.append(test)\n",
    "\n",
    "tests.append({\n",
    "    'input': {\n",
    "        'cards': [13, 11, 10, 9, 7, 3, 1, 0],\n",
    "        'query' : 1\n",
    "    },\n",
    "    'output': 6\n",
    "})"
   ]
  },
  {
   "cell_type": "code",
   "execution_count": 11,
   "id": "5f6b3341",
   "metadata": {},
   "outputs": [],
   "source": [
    "# query is the first element\n",
    "tests.append({\n",
    "    'input': {\n",
    "        'cards': [4, 2, 1, -1],\n",
    "        'query': 4\n",
    "    }, \n",
    "    'output': 0\n",
    "})"
   ]
  },
  {
   "cell_type": "code",
   "execution_count": 12,
   "id": "c5031c07",
   "metadata": {},
   "outputs": [],
   "source": [
    "# query is the last element \n",
    "tests.append({\n",
    "    'input': {\n",
    "        'cards': [3, -1, -9, -127],\n",
    "        'query': -127\n",
    "    }, \n",
    "    'output': 3\n",
    "})"
   ]
  },
  {
   "cell_type": "code",
   "execution_count": 13,
   "id": "a7ee7903",
   "metadata": {},
   "outputs": [],
   "source": [
    "# cards contains just one element, query\n",
    "tests.append({\n",
    "    'input': {\n",
    "        'cards': [6],\n",
    "        'query': 6\n",
    "    }, \n",
    "    'output': 0\n",
    "})"
   ]
  },
  {
   "cell_type": "markdown",
   "id": "92c82195",
   "metadata": {},
   "source": [
    "The problem statement does not specify what to do if the list `cards` does not contain the number `query`.\n",
    "\n",
    "1. Read the problem statement again, carefully.\n",
    "1. Look through the examples provided with the problem.\n",
    "1. Ask the interviewer/platform for a clarification.\n",
    "1. Make a reasonable assumtion, state it and move forward.\n",
    "\n",
    "We will assume that our function will return `-1` in case `cards` does not contain `query`."
   ]
  },
  {
   "cell_type": "code",
   "execution_count": 14,
   "id": "5981b4c1",
   "metadata": {},
   "outputs": [],
   "source": [
    "# cards does not contain query\n",
    "tests.append({\n",
    "    'input': {\n",
    "        'cards': [9, 7, 5, 2, -9],\n",
    "        'query': 4\n",
    "    }, \n",
    "    'output': -1\n",
    "})"
   ]
  },
  {
   "cell_type": "code",
   "execution_count": 15,
   "id": "79b07c1f",
   "metadata": {},
   "outputs": [],
   "source": [
    "# cards is empty\n",
    "tests.append({\n",
    "    'input': {\n",
    "        'cards': [],\n",
    "        'query': 7\n",
    "    }, \n",
    "    'output': -1\n",
    "})"
   ]
  },
  {
   "cell_type": "code",
   "execution_count": 16,
   "id": "53a644b7",
   "metadata": {},
   "outputs": [],
   "source": [
    "# numbers can repeat in cards\n",
    "tests.append({\n",
    "    'input': {\n",
    "        'cards': [8, 8, 6, 6, 6, 6, 6, 3, 2, 2, 2, 0, 0, 0],\n",
    "        'query': 3\n",
    "    }, \n",
    "    'output': 7\n",
    "})"
   ]
  },
  {
   "cell_type": "markdown",
   "id": "2df1753f",
   "metadata": {},
   "source": [
    "In the case where `query` occurs multiple times in `cards`, we'll expect our function to return the first occurance of query.\n",
    "\n",
    "While it may also be acceptable for the function to return any position where `query` occurs within the list, it would be slightly more difficult to test the function, as the output is non-deterministic."
   ]
  },
  {
   "cell_type": "code",
   "execution_count": 17,
   "id": "54e4d5ee",
   "metadata": {},
   "outputs": [],
   "source": [
    "# query occurs multiple times\n",
    "tests.append({\n",
    "    'input': {\n",
    "        'cards': [8, 8, 6, 6, 6, 6, 6, 3, 2, 2, 2, 0, 0, 0],\n",
    "        'query': 6\n",
    "    }, \n",
    "    'output': 2\n",
    "})"
   ]
  },
  {
   "cell_type": "markdown",
   "id": "8dff0024",
   "metadata": {},
   "source": [
    "Let's look at the full set of test cases we have created so far."
   ]
  },
  {
   "cell_type": "code",
   "execution_count": 18,
   "id": "9ac7a37b",
   "metadata": {},
   "outputs": [
    {
     "data": {
      "text/plain": [
       "[{'input': {'cards': [13, 11, 10, 7, 4, 3, 1, 0], 'query': 7}, 'output': 3},\n",
       " {'input': {'cards': [13, 11, 10, 7, 3, 1, 0], 'query': 1}, 'output': 6},\n",
       " {'input': {'cards': [4, 2, 1, -1], 'query': 4}, 'output': 0},\n",
       " {'input': {'cards': [3, -1, -9, -127], 'query': -127}, 'output': 3},\n",
       " {'input': {'cards': [6], 'query': 6}, 'output': 0},\n",
       " {'input': {'cards': [9, 7, 5, 2, -9], 'query': 4}, 'output': -1},\n",
       " {'input': {'cards': [], 'query': 7}, 'output': -1},\n",
       " {'input': {'cards': [8, 8, 6, 6, 6, 6, 6, 3, 2, 2, 2, 0, 0, 0], 'query': 3},\n",
       "  'output': 7},\n",
       " {'input': {'cards': [8, 8, 6, 6, 6, 6, 6, 3, 2, 2, 2, 0, 0, 0], 'query': 6},\n",
       "  'output': 2}]"
      ]
     },
     "execution_count": 18,
     "metadata": {},
     "output_type": "execute_result"
    }
   ],
   "source": [
    "tests"
   ]
  },
  {
   "cell_type": "markdown",
   "id": "eb4c8f69",
   "metadata": {},
   "source": [
    "Great, now we have a fairly exhaustive set of test cases to evaluate our function.\n",
    "\n",
    "Creating test cases beforehand allows you to identify different variations and edge cases in advance so that can make sure to handle them while writing code. Sometimes, you may start out confused, but the solution will reveal itself as you try to come up with interesting test cases.\n",
    "\n",
    "**Tip:** Don't stress it if you can't come up with an exhaustive list of test cases though. You can come back and to this section and add more test cases as you discover them. Coming up with good test cases is a skill that takes practice.  "
   ]
  },
  {
   "cell_type": "markdown",
   "id": "d5cc50b3",
   "metadata": {},
   "source": [
    "#### 3. Come up with a correct solution for the problem. State it in plain English.\n",
    "\n",
    "Our first goal should always be to come up with a *correct* solution to the probelm, which may necessariy be the most *efficient* solution. The simplest or the most obvious solution to a problem, which generally involves checking all possible answers is called *brute force* solution.\n",
    "\n",
    "In this problem, coming up with a correct solution is quite easy. We can simply loop through all the cards one by one and pick the index of the first occurance of `query` in the `cards`. Here is how we might implement it:\n",
    "\n",
    "1. Create a variable `position` with the value `0`.\n",
    "1. Check whether the number at index `position` in `cards` equals `query`.\n",
    "1. If it does, `position` is the answer and can be returned from the function.\n",
    "1. If not, increment the value of `position` by 1, and repeat the steps 2 to 5 till we reach the last position.\n",
    "1. If the number was not found, return `-1`.\n",
    "\n",
    "***************\n",
    "An **algorithm** is simply a list of statements which can be converted into code and executed by a computer on different sets of inputs.\n",
    "\n",
    "***************\n",
    "**Tip:** Always try to express (speak or write) the algorithm in your own words before you atart coding. It can be as brief or detailed as you require it to be. Writing is a great tool for thinking clearly. It's likely that you will find some parts of the solution difficult to express, whcih suggests that you are probably unable to think about it clearly. The more clearly you are able to express your thoughts, the easier it will be for you to turn into code."
   ]
  },
  {
   "cell_type": "markdown",
   "id": "ca5b5516",
   "metadata": {},
   "source": [
    "#### 4. Implement the solution and test it using example inputs. Fix bugs, if any.\n",
    "\n",
    "Phew! We are finally ready to implement our solution."
   ]
  },
  {
   "cell_type": "code",
   "execution_count": 19,
   "id": "48ee51ef",
   "metadata": {},
   "outputs": [],
   "source": [
    "def locate_card(cards, query):\n",
    "    # Create a variable position with the value 0\n",
    "    position = 0\n",
    "    \n",
    "    # Set up a loop for repetition\n",
    "    while True:\n",
    "        \n",
    "        # Check if the element at the current position matches the query\n",
    "        if cards[position] == query:\n",
    "            \n",
    "            # Answer found!  Return and exit\n",
    "            return position\n",
    "        # Increment the position\n",
    "        position += 1\n",
    "        \n",
    "        # Check if we have reached the end of the array\n",
    "        if position == len(cards):\n",
    "            \n",
    "            # Number not found, return -1\n",
    "            return -1"
   ]
  },
  {
   "cell_type": "markdown",
   "id": "e0d48844",
   "metadata": {},
   "source": [
    "Let's test our function with the first test case"
   ]
  },
  {
   "cell_type": "code",
   "execution_count": 20,
   "id": "adefaada",
   "metadata": {},
   "outputs": [
    {
     "data": {
      "text/plain": [
       "{'input': {'cards': [13, 11, 10, 7, 4, 3, 1, 0], 'query': 7}, 'output': 3}"
      ]
     },
     "execution_count": 20,
     "metadata": {},
     "output_type": "execute_result"
    }
   ],
   "source": [
    "test"
   ]
  },
  {
   "cell_type": "code",
   "execution_count": 21,
   "id": "fbef0e79",
   "metadata": {},
   "outputs": [
    {
     "data": {
      "text/plain": [
       "3"
      ]
     },
     "execution_count": 21,
     "metadata": {},
     "output_type": "execute_result"
    }
   ],
   "source": [
    "result = locate_card(**test['input'])\n",
    "result"
   ]
  },
  {
   "cell_type": "code",
   "execution_count": 22,
   "id": "abb38daf",
   "metadata": {},
   "outputs": [
    {
     "data": {
      "text/plain": [
       "True"
      ]
     },
     "execution_count": 22,
     "metadata": {},
     "output_type": "execute_result"
    }
   ],
   "source": [
    "output = test['output']\n",
    "result == output "
   ]
  },
  {
   "cell_type": "markdown",
   "id": "4558afbb",
   "metadata": {},
   "source": [
    "The `jovian` Python library provides a helper function `evaluate_test_case`. Apart from checking whether the function produces the expected result, it also displays the input, expected output, actaul output from the function, and the excution time of the function."
   ]
  },
  {
   "cell_type": "code",
   "execution_count": 23,
   "id": "15054ed8",
   "metadata": {},
   "outputs": [],
   "source": [
    "from jovian.pythondsa import evaluate_test_case"
   ]
  },
  {
   "cell_type": "code",
   "execution_count": 24,
   "id": "b6d616df",
   "metadata": {},
   "outputs": [
    {
     "name": "stdout",
     "output_type": "stream",
     "text": [
      "\n",
      "Input:\n",
      "{'cards': [13, 11, 10, 7, 4, 3, 1, 0], 'query': 7}\n",
      "\n",
      "Expected Output:\n",
      "3\n",
      "\n",
      "\n",
      "Actual Output:\n",
      "3\n",
      "\n",
      "Execution Time:\n",
      "0.004 ms\n",
      "\n",
      "Test Result:\n",
      "\u001b[92mPASSED\u001b[0m\n",
      "\n"
     ]
    },
    {
     "data": {
      "text/plain": [
       "(3, True, 0.004)"
      ]
     },
     "execution_count": 24,
     "metadata": {},
     "output_type": "execute_result"
    }
   ],
   "source": [
    "evaluate_test_case(locate_card, test)"
   ]
  },
  {
   "cell_type": "markdown",
   "id": "57d6fe17",
   "metadata": {},
   "source": [
    "While it may seem like we have a working solution based on the above test, we can't be sure about it until we test the function with all the test cases.\n",
    "\n",
    "We can use the `evaluate_test_cases` (plural) function from the jovian library to test our function on al the test cases with a single line of code."
   ]
  },
  {
   "cell_type": "code",
   "execution_count": 25,
   "id": "3b770b25",
   "metadata": {},
   "outputs": [],
   "source": [
    "from jovian.pythondsa import evaluate_test_cases"
   ]
  },
  {
   "cell_type": "code",
   "execution_count": 31,
   "id": "d9b5a890",
   "metadata": {},
   "outputs": [
    {
     "name": "stdout",
     "output_type": "stream",
     "text": [
      "\n",
      "\u001b[1mTEST CASE #0\u001b[0m\n",
      "\n",
      "Input:\n",
      "{'cards': [13, 11, 10, 7, 4, 3, 1, 0], 'query': 7}\n",
      "\n",
      "Expected Output:\n",
      "3\n",
      "\n",
      "\n",
      "Actual Output:\n",
      "3\n",
      "\n",
      "Execution Time:\n",
      "0.007 ms\n",
      "\n",
      "Test Result:\n",
      "\u001b[92mPASSED\u001b[0m\n",
      "\n",
      "\n",
      "\u001b[1mTEST CASE #1\u001b[0m\n",
      "\n",
      "Input:\n",
      "{'cards': [4, 2, 1, -1], 'query': 4}\n",
      "\n",
      "Expected Output:\n",
      "0\n",
      "\n",
      "\n",
      "Actual Output:\n",
      "0\n",
      "\n",
      "Execution Time:\n",
      "0.003 ms\n",
      "\n",
      "Test Result:\n",
      "\u001b[92mPASSED\u001b[0m\n",
      "\n",
      "\n",
      "\u001b[1mTEST CASE #2\u001b[0m\n",
      "\n",
      "Input:\n",
      "{'cards': [3, -1, -9, -127], 'query': -127}\n",
      "\n",
      "Expected Output:\n",
      "3\n",
      "\n",
      "\n",
      "Actual Output:\n",
      "3\n",
      "\n",
      "Execution Time:\n",
      "0.005 ms\n",
      "\n",
      "Test Result:\n",
      "\u001b[92mPASSED\u001b[0m\n",
      "\n",
      "\n",
      "\u001b[1mTEST CASE #3\u001b[0m\n",
      "\n",
      "Input:\n",
      "{'cards': [6], 'query': 6}\n",
      "\n",
      "Expected Output:\n",
      "0\n",
      "\n",
      "\n",
      "Actual Output:\n",
      "0\n",
      "\n",
      "Execution Time:\n",
      "0.003 ms\n",
      "\n",
      "Test Result:\n",
      "\u001b[92mPASSED\u001b[0m\n",
      "\n",
      "\n",
      "\u001b[1mTEST CASE #4\u001b[0m\n",
      "\n",
      "Input:\n",
      "{'cards': [9, 7, 5, 2, -9], 'query': 4}\n",
      "\n",
      "Expected Output:\n",
      "-1\n",
      "\n",
      "\n",
      "Actual Output:\n",
      "-1\n",
      "\n",
      "Execution Time:\n",
      "0.005 ms\n",
      "\n",
      "Test Result:\n",
      "\u001b[92mPASSED\u001b[0m\n",
      "\n",
      "\n",
      "\u001b[1mTEST CASE #5\u001b[0m\n"
     ]
    },
    {
     "ename": "IndexError",
     "evalue": "list index out of range",
     "output_type": "error",
     "traceback": [
      "\u001b[1;31m---------------------------------------------------------------------------\u001b[0m",
      "\u001b[1;31mIndexError\u001b[0m                                Traceback (most recent call last)",
      "\u001b[1;32m<ipython-input-31-2111dddaa84c>\u001b[0m in \u001b[0;36m<module>\u001b[1;34m\u001b[0m\n\u001b[1;32m----> 1\u001b[1;33m \u001b[0mevaluate_test_cases\u001b[0m\u001b[1;33m(\u001b[0m\u001b[0mlocate_card\u001b[0m\u001b[1;33m,\u001b[0m \u001b[0mtests\u001b[0m\u001b[1;33m)\u001b[0m\u001b[1;33m\u001b[0m\u001b[1;33m\u001b[0m\u001b[0m\n\u001b[0m",
      "\u001b[1;32m~\\Anaconda3\\lib\\site-packages\\jovian\\pythondsa\\__init__.py\u001b[0m in \u001b[0;36mevaluate_test_cases\u001b[1;34m(function, test_cases, error_only, summary_only)\u001b[0m\n\u001b[0;32m     85\u001b[0m         \u001b[1;32mif\u001b[0m \u001b[1;32mnot\u001b[0m \u001b[0merror_only\u001b[0m\u001b[1;33m:\u001b[0m\u001b[1;33m\u001b[0m\u001b[1;33m\u001b[0m\u001b[0m\n\u001b[0;32m     86\u001b[0m             \u001b[0mprint\u001b[0m\u001b[1;33m(\u001b[0m\u001b[1;34m\"\\n\\033[1mTEST CASE #{}\\033[0m\"\u001b[0m\u001b[1;33m.\u001b[0m\u001b[0mformat\u001b[0m\u001b[1;33m(\u001b[0m\u001b[0mi\u001b[0m\u001b[1;33m)\u001b[0m\u001b[1;33m)\u001b[0m\u001b[1;33m\u001b[0m\u001b[1;33m\u001b[0m\u001b[0m\n\u001b[1;32m---> 87\u001b[1;33m         \u001b[0mresult\u001b[0m \u001b[1;33m=\u001b[0m \u001b[0mevaluate_test_case\u001b[0m\u001b[1;33m(\u001b[0m\u001b[0mfunction\u001b[0m\u001b[1;33m,\u001b[0m \u001b[0mtest_case\u001b[0m\u001b[1;33m,\u001b[0m \u001b[0mdisplay\u001b[0m\u001b[1;33m=\u001b[0m\u001b[1;32mFalse\u001b[0m\u001b[1;33m)\u001b[0m\u001b[1;33m\u001b[0m\u001b[1;33m\u001b[0m\u001b[0m\n\u001b[0m\u001b[0;32m     88\u001b[0m         \u001b[0mresults\u001b[0m\u001b[1;33m.\u001b[0m\u001b[0mappend\u001b[0m\u001b[1;33m(\u001b[0m\u001b[0mresult\u001b[0m\u001b[1;33m)\u001b[0m\u001b[1;33m\u001b[0m\u001b[1;33m\u001b[0m\u001b[0m\n\u001b[0;32m     89\u001b[0m         \u001b[1;32mif\u001b[0m \u001b[0merror_only\u001b[0m \u001b[1;32mand\u001b[0m \u001b[1;32mnot\u001b[0m \u001b[0mresult\u001b[0m\u001b[1;33m[\u001b[0m\u001b[1;36m1\u001b[0m\u001b[1;33m]\u001b[0m\u001b[1;33m:\u001b[0m\u001b[1;33m\u001b[0m\u001b[1;33m\u001b[0m\u001b[0m\n",
      "\u001b[1;32m~\\Anaconda3\\lib\\site-packages\\jovian\\pythondsa\\__init__.py\u001b[0m in \u001b[0;36mevaluate_test_case\u001b[1;34m(function, test_case, display)\u001b[0m\n\u001b[0;32m     63\u001b[0m \u001b[1;33m\u001b[0m\u001b[0m\n\u001b[0;32m     64\u001b[0m     \u001b[0mstart\u001b[0m \u001b[1;33m=\u001b[0m \u001b[0mtimer\u001b[0m\u001b[1;33m(\u001b[0m\u001b[1;33m)\u001b[0m\u001b[1;33m\u001b[0m\u001b[1;33m\u001b[0m\u001b[0m\n\u001b[1;32m---> 65\u001b[1;33m     \u001b[0mactual_output\u001b[0m \u001b[1;33m=\u001b[0m \u001b[0mfunction\u001b[0m\u001b[1;33m(\u001b[0m\u001b[1;33m**\u001b[0m\u001b[0minputs\u001b[0m\u001b[1;33m)\u001b[0m\u001b[1;33m\u001b[0m\u001b[1;33m\u001b[0m\u001b[0m\n\u001b[0m\u001b[0;32m     66\u001b[0m     \u001b[0mend\u001b[0m \u001b[1;33m=\u001b[0m \u001b[0mtimer\u001b[0m\u001b[1;33m(\u001b[0m\u001b[1;33m)\u001b[0m\u001b[1;33m\u001b[0m\u001b[1;33m\u001b[0m\u001b[0m\n\u001b[0;32m     67\u001b[0m \u001b[1;33m\u001b[0m\u001b[0m\n",
      "\u001b[1;32m<ipython-input-19-ee073662cffb>\u001b[0m in \u001b[0;36mlocate_card\u001b[1;34m(cards, query)\u001b[0m\n\u001b[0;32m      7\u001b[0m \u001b[1;33m\u001b[0m\u001b[0m\n\u001b[0;32m      8\u001b[0m         \u001b[1;31m# Check if the element at the current position matches the query\u001b[0m\u001b[1;33m\u001b[0m\u001b[1;33m\u001b[0m\u001b[1;33m\u001b[0m\u001b[0m\n\u001b[1;32m----> 9\u001b[1;33m         \u001b[1;32mif\u001b[0m \u001b[0mcards\u001b[0m\u001b[1;33m[\u001b[0m\u001b[0mposition\u001b[0m\u001b[1;33m]\u001b[0m \u001b[1;33m==\u001b[0m \u001b[0mquery\u001b[0m\u001b[1;33m:\u001b[0m\u001b[1;33m\u001b[0m\u001b[1;33m\u001b[0m\u001b[0m\n\u001b[0m\u001b[0;32m     10\u001b[0m \u001b[1;33m\u001b[0m\u001b[0m\n\u001b[0;32m     11\u001b[0m             \u001b[1;31m# Answer found!  Return and exit\u001b[0m\u001b[1;33m\u001b[0m\u001b[1;33m\u001b[0m\u001b[1;33m\u001b[0m\u001b[0m\n",
      "\u001b[1;31mIndexError\u001b[0m: list index out of range"
     ]
    }
   ],
   "source": [
    "evaluate_test_cases(locate_card, tests)"
   ]
  },
  {
   "cell_type": "markdown",
   "id": "4e470e30",
   "metadata": {},
   "source": [
    "Look s like the list `cards` is empty in this case, and may be root of the problem.\n",
    "\n",
    "Let's add some `print` statements within our function to print the inputs and the value of the `position` variable in each loop."
   ]
  },
  {
   "cell_type": "code",
   "execution_count": 32,
   "id": "5830522f",
   "metadata": {},
   "outputs": [],
   "source": [
    "def locate_card(cards, query):\n",
    "    position = 0\n",
    "    \n",
    "    print('cards:', cards)\n",
    "    print('query:', query)\n",
    "    \n",
    "    while True:\n",
    "        print('position:', position)\n",
    "        \n",
    "        if cards[position] == query:\n",
    "            return position\n",
    "        \n",
    "        position += 1\n",
    "        if position == len(cards):\n",
    "            return -1"
   ]
  },
  {
   "cell_type": "code",
   "execution_count": 33,
   "id": "44e62173",
   "metadata": {},
   "outputs": [
    {
     "name": "stdout",
     "output_type": "stream",
     "text": [
      "cards: []\n",
      "query: 7\n",
      "position: 0\n"
     ]
    },
    {
     "ename": "IndexError",
     "evalue": "list index out of range",
     "output_type": "error",
     "traceback": [
      "\u001b[1;31m---------------------------------------------------------------------------\u001b[0m",
      "\u001b[1;31mIndexError\u001b[0m                                Traceback (most recent call last)",
      "\u001b[1;32m<ipython-input-33-0a13a0475841>\u001b[0m in \u001b[0;36m<module>\u001b[1;34m\u001b[0m\n\u001b[0;32m      2\u001b[0m \u001b[0mquery5\u001b[0m \u001b[1;33m=\u001b[0m \u001b[0mtests\u001b[0m\u001b[1;33m[\u001b[0m\u001b[1;36m5\u001b[0m\u001b[1;33m]\u001b[0m\u001b[1;33m[\u001b[0m\u001b[1;34m'input'\u001b[0m\u001b[1;33m]\u001b[0m\u001b[1;33m[\u001b[0m\u001b[1;34m'query'\u001b[0m\u001b[1;33m]\u001b[0m\u001b[1;33m\u001b[0m\u001b[1;33m\u001b[0m\u001b[0m\n\u001b[0;32m      3\u001b[0m \u001b[1;33m\u001b[0m\u001b[0m\n\u001b[1;32m----> 4\u001b[1;33m \u001b[0mlocate_card\u001b[0m\u001b[1;33m(\u001b[0m\u001b[0mcards5\u001b[0m\u001b[1;33m,\u001b[0m \u001b[0mquery5\u001b[0m\u001b[1;33m)\u001b[0m\u001b[1;33m\u001b[0m\u001b[1;33m\u001b[0m\u001b[0m\n\u001b[0m",
      "\u001b[1;32m<ipython-input-32-aabbbc74d5cf>\u001b[0m in \u001b[0;36mlocate_card\u001b[1;34m(cards, query)\u001b[0m\n\u001b[0;32m      8\u001b[0m         \u001b[0mprint\u001b[0m\u001b[1;33m(\u001b[0m\u001b[1;34m'position:'\u001b[0m\u001b[1;33m,\u001b[0m \u001b[0mposition\u001b[0m\u001b[1;33m)\u001b[0m\u001b[1;33m\u001b[0m\u001b[1;33m\u001b[0m\u001b[0m\n\u001b[0;32m      9\u001b[0m \u001b[1;33m\u001b[0m\u001b[0m\n\u001b[1;32m---> 10\u001b[1;33m         \u001b[1;32mif\u001b[0m \u001b[0mcards\u001b[0m\u001b[1;33m[\u001b[0m\u001b[0mposition\u001b[0m\u001b[1;33m]\u001b[0m \u001b[1;33m==\u001b[0m \u001b[0mquery\u001b[0m\u001b[1;33m:\u001b[0m\u001b[1;33m\u001b[0m\u001b[1;33m\u001b[0m\u001b[0m\n\u001b[0m\u001b[0;32m     11\u001b[0m             \u001b[1;32mreturn\u001b[0m \u001b[0mposition\u001b[0m\u001b[1;33m\u001b[0m\u001b[1;33m\u001b[0m\u001b[0m\n\u001b[0;32m     12\u001b[0m \u001b[1;33m\u001b[0m\u001b[0m\n",
      "\u001b[1;31mIndexError\u001b[0m: list index out of range"
     ]
    }
   ],
   "source": [
    "cards5 = tests[5]['input']['cards']\n",
    "query5 = tests[5]['input']['query']\n",
    "\n",
    "locate_card(cards5, query5)"
   ]
  },
  {
   "cell_type": "markdown",
   "id": "051d1623",
   "metadata": {},
   "source": [
    "Clearly, since `cards` is empty, it's not posiible to access the element at index 0. To fix this, we can check whether we've reached the end of the array before trying to access an element from it. In fact, this can be terminating condition for the `while` loop itself."
   ]
  },
  {
   "cell_type": "code",
   "execution_count": 38,
   "id": "44316f0c",
   "metadata": {},
   "outputs": [],
   "source": [
    "def locate_card(cards, query):\n",
    "    position = 0\n",
    "    while position < len(cards):\n",
    "        if cards[position] == query:\n",
    "            return position\n",
    "        \n",
    "        position += 1\n",
    "        \n",
    "    return -1"
   ]
  },
  {
   "cell_type": "markdown",
   "id": "d960da7f",
   "metadata": {},
   "source": [
    "Let's test the failing case again. "
   ]
  },
  {
   "cell_type": "code",
   "execution_count": 35,
   "id": "0972e2b8",
   "metadata": {},
   "outputs": [
    {
     "data": {
      "text/plain": [
       "{'input': {'cards': [], 'query': 7}, 'output': -1}"
      ]
     },
     "execution_count": 35,
     "metadata": {},
     "output_type": "execute_result"
    }
   ],
   "source": [
    "tests[5]"
   ]
  },
  {
   "cell_type": "code",
   "execution_count": 39,
   "id": "d7844fd5",
   "metadata": {},
   "outputs": [
    {
     "data": {
      "text/plain": [
       "-1"
      ]
     },
     "execution_count": 39,
     "metadata": {},
     "output_type": "execute_result"
    }
   ],
   "source": [
    "locate_card(cards5, query5)"
   ]
  },
  {
   "cell_type": "markdown",
   "id": "76b2d952",
   "metadata": {},
   "source": [
    "Let's verify that all the other test cases pass too."
   ]
  },
  {
   "cell_type": "code",
   "execution_count": 40,
   "id": "b9e7d474",
   "metadata": {},
   "outputs": [
    {
     "name": "stdout",
     "output_type": "stream",
     "text": [
      "\n",
      "\u001b[1mTEST CASE #0\u001b[0m\n",
      "\n",
      "Input:\n",
      "{'cards': [13, 11, 10, 7, 4, 3, 1, 0], 'query': 7}\n",
      "\n",
      "Expected Output:\n",
      "3\n",
      "\n",
      "\n",
      "Actual Output:\n",
      "3\n",
      "\n",
      "Execution Time:\n",
      "0.007 ms\n",
      "\n",
      "Test Result:\n",
      "\u001b[92mPASSED\u001b[0m\n",
      "\n",
      "\n",
      "\u001b[1mTEST CASE #1\u001b[0m\n",
      "\n",
      "Input:\n",
      "{'cards': [4, 2, 1, -1], 'query': 4}\n",
      "\n",
      "Expected Output:\n",
      "0\n",
      "\n",
      "\n",
      "Actual Output:\n",
      "0\n",
      "\n",
      "Execution Time:\n",
      "0.003 ms\n",
      "\n",
      "Test Result:\n",
      "\u001b[92mPASSED\u001b[0m\n",
      "\n",
      "\n",
      "\u001b[1mTEST CASE #2\u001b[0m\n",
      "\n",
      "Input:\n",
      "{'cards': [3, -1, -9, -127], 'query': -127}\n",
      "\n",
      "Expected Output:\n",
      "3\n",
      "\n",
      "\n",
      "Actual Output:\n",
      "3\n",
      "\n",
      "Execution Time:\n",
      "0.006 ms\n",
      "\n",
      "Test Result:\n",
      "\u001b[92mPASSED\u001b[0m\n",
      "\n",
      "\n",
      "\u001b[1mTEST CASE #3\u001b[0m\n",
      "\n",
      "Input:\n",
      "{'cards': [6], 'query': 6}\n",
      "\n",
      "Expected Output:\n",
      "0\n",
      "\n",
      "\n",
      "Actual Output:\n",
      "0\n",
      "\n",
      "Execution Time:\n",
      "0.004 ms\n",
      "\n",
      "Test Result:\n",
      "\u001b[92mPASSED\u001b[0m\n",
      "\n",
      "\n",
      "\u001b[1mTEST CASE #4\u001b[0m\n",
      "\n",
      "Input:\n",
      "{'cards': [9, 7, 5, 2, -9], 'query': 4}\n",
      "\n",
      "Expected Output:\n",
      "-1\n",
      "\n",
      "\n",
      "Actual Output:\n",
      "-1\n",
      "\n",
      "Execution Time:\n",
      "0.005 ms\n",
      "\n",
      "Test Result:\n",
      "\u001b[92mPASSED\u001b[0m\n",
      "\n",
      "\n",
      "\u001b[1mTEST CASE #5\u001b[0m\n",
      "\n",
      "Input:\n",
      "{'cards': [], 'query': 7}\n",
      "\n",
      "Expected Output:\n",
      "-1\n",
      "\n",
      "\n",
      "Actual Output:\n",
      "-1\n",
      "\n",
      "Execution Time:\n",
      "0.005 ms\n",
      "\n",
      "Test Result:\n",
      "\u001b[92mPASSED\u001b[0m\n",
      "\n",
      "\n",
      "\u001b[1mTEST CASE #6\u001b[0m\n",
      "\n",
      "Input:\n",
      "{'cards': [8, 8, 6, 6, 6, 6, 6, 3, 2, 2, 2, 0, 0, 0], 'query': 3}\n",
      "\n",
      "Expected Output:\n",
      "7\n",
      "\n",
      "\n",
      "Actual Output:\n",
      "7\n",
      "\n",
      "Execution Time:\n",
      "0.008 ms\n",
      "\n",
      "Test Result:\n",
      "\u001b[92mPASSED\u001b[0m\n",
      "\n",
      "\n",
      "\u001b[1mTEST CASE #7\u001b[0m\n",
      "\n",
      "Input:\n",
      "{'cards': [8, 8, 6, 6, 6, 6, 6, 3, 2, 2, 2, 0, 0, 0], 'query': 6}\n",
      "\n",
      "Expected Output:\n",
      "2\n",
      "\n",
      "\n",
      "Actual Output:\n",
      "2\n",
      "\n",
      "Execution Time:\n",
      "0.006 ms\n",
      "\n",
      "Test Result:\n",
      "\u001b[92mPASSED\u001b[0m\n",
      "\n",
      "\n",
      "\u001b[1mTEST CASE #8\u001b[0m\n",
      "\n",
      "Input:\n",
      "{'cards': [13, 11, 10, 7, 4, 3, 1, 0], 'query': 7}\n",
      "\n",
      "Expected Output:\n",
      "3\n",
      "\n",
      "\n",
      "Actual Output:\n",
      "3\n",
      "\n",
      "Execution Time:\n",
      "0.006 ms\n",
      "\n",
      "Test Result:\n",
      "\u001b[92mPASSED\u001b[0m\n",
      "\n",
      "\n",
      "\u001b[1mTEST CASE #9\u001b[0m\n",
      "\n",
      "Input:\n",
      "{'cards': [13, 11, 10, 9, 7, 3, 1, 0], 'query': 1}\n",
      "\n",
      "Expected Output:\n",
      "6\n",
      "\n",
      "\n",
      "Actual Output:\n",
      "6\n",
      "\n",
      "Execution Time:\n",
      "0.009 ms\n",
      "\n",
      "Test Result:\n",
      "\u001b[92mPASSED\u001b[0m\n",
      "\n",
      "\n",
      "\u001b[1mSUMMARY\u001b[0m\n",
      "\n",
      "TOTAL: 10, \u001b[92mPASSED\u001b[0m: 10, \u001b[91mFAILED\u001b[0m: 0\n"
     ]
    },
    {
     "data": {
      "text/plain": [
       "[(3, True, 0.007),\n",
       " (0, True, 0.003),\n",
       " (3, True, 0.006),\n",
       " (0, True, 0.004),\n",
       " (-1, True, 0.005),\n",
       " (-1, True, 0.005),\n",
       " (7, True, 0.008),\n",
       " (2, True, 0.006),\n",
       " (3, True, 0.006),\n",
       " (6, True, 0.009)]"
      ]
     },
     "execution_count": 40,
     "metadata": {},
     "output_type": "execute_result"
    }
   ],
   "source": [
    "evaluate_test_cases(locate_card, tests)"
   ]
  },
  {
   "cell_type": "markdown",
   "id": "65c4ca1c",
   "metadata": {},
   "source": [
    "Our code passes all the test cases. Of course, there might be some other edge cases we haven't thought of which may cause the function to fail.\n",
    "\n",
    "**Tip:** In a real interview or coding assessment, you can skip the step of implementing and testing the brute force solution in the interest of time. It's generally quite easy to figure out the complexity of the brute force for the solution from the plain English description."
   ]
  },
  {
   "cell_type": "markdown",
   "id": "90df269d",
   "metadata": {},
   "source": [
    "#### 5. Analyze the algorithm's complexity and identify inefficiencies, if any.\n",
    "\n",
    "The field of study concerned with finding the amount of time, space or other resources required to complete the execution of computer programs is called *the analysis of algorithms*. And the process of finding out the best algorithm to solve a given problem is called *algorithm design and optimization*.\n",
    "****************\n",
    "\n",
    "**Complexity and Big O Notation**\n",
    "\n",
    "> **Complexity** of an algorithm is a measure of the amount of time and/or space required by an algorithm for an input of a given size e.g. `N`. Unless otherwise stated, the term *complexity* always refers to the worst-case complexity (i.e. the highest possible time/space taken by the program/algorithm to process the input).\n",
    "    \n",
    "In the case of linear search:\n",
    "\n",
    "1. The *time complexity* of the algorithm is `cN` for some fixed constant `c` that depends on the number of operations we perform in each iteration and the time taken to execute a satatement. Time complexity is sometimes also called the *running time* of the algorithm.\n",
    "\n",
    "1. The *space complexity* is some constant `c'`(independent of `N`), since we just need a single variable `position` to iterate through the array, and it occupies a constant space in the computer's memory (RAM).\n",
    "\n",
    "> **Big O Notation**: Worst-case complexity is often expressed using the Big O notation. In the Big O, we drop fixed constants and lower powers and lower powers of variables to capture the trend of the relationship between the size of the input and the complexity of the algorithm i.e. if the complexity of the algorithm is `cN^3 + dN^2 + eN + f`, in the b-g O notation it is expressed as **O(N^3)**\n",
    "\n",
    "Thus, the time complexity of linear search is **O(N)** and its space complexity is **O(1)**."
   ]
  },
  {
   "cell_type": "markdown",
   "id": "81b2afa0",
   "metadata": {},
   "source": [
    "#### 6. Apply the right technique to overcome the inefficiency. Repeat steps 3 to 6.\n",
    "\n",
    "List all the techniques that come to the mind. List them and find the bext one.\n",
    "\n",
    "The bext idea would be to pick a random card, and use the fact that the list is sorted, to determine whether the target card lies to the left or right of it. In fact, if we pick the middle card, we can reduce the number of additional cards to be tested to half the size of the list. Then, we can simply repeat the process with each half. This technique is called binary search."
   ]
  },
  {
   "cell_type": "markdown",
   "id": "06b73245",
   "metadata": {},
   "source": [
    "#### 7. Come up with a correct solution for the problem. State it in plain English.\n",
    "\n",
    "Here's how binary search can be applied to our problem:\n",
    "\n",
    "1. Find the middle element of the list.\n",
    "1. If it matches the queried number, return the middle position as the answer.\n",
    "1. If it is less than the queried number, then search the first half of the list.\n",
    "1. If it is greater than the queried number, then search the second half of the list.\n",
    "1. If no more elements remain, return -1."
   ]
  },
  {
   "cell_type": "markdown",
   "id": "595b6815",
   "metadata": {},
   "source": [
    "#### 8. Implement the solution and test it using example inputs. Fix bugs, if any.\n",
    "\n",
    "Here's an implementation of binary search for solving our problem. We also print the relevant variables in each iteration of the while loop."
   ]
  },
  {
   "cell_type": "code",
   "execution_count": 41,
   "id": "231b2da7",
   "metadata": {},
   "outputs": [],
   "source": [
    "def locate_card(cards, query):\n",
    "    low, high = 0, len(cards) - 1\n",
    "    \n",
    "    while low <= high:\n",
    "        mid = (low + high)//2\n",
    "        mid_num = cards[mid]\n",
    "        \n",
    "        print(\"low:\", low, \"high:\", high, \"mid:\", mid, \"mid_number:\", mid_num)\n",
    "        \n",
    "        if mid_num == query:\n",
    "            return mid\n",
    "        elif mid_num < query:\n",
    "            high = mid - 1\n",
    "        elif mid_num > query:\n",
    "            low = mid + 1\n",
    "        \n",
    "    return -1"
   ]
  },
  {
   "cell_type": "markdown",
   "id": "6297919f",
   "metadata": {},
   "source": [
    "Let's test it out using the test cases."
   ]
  },
  {
   "cell_type": "code",
   "execution_count": 42,
   "id": "e531a9e3",
   "metadata": {},
   "outputs": [
    {
     "name": "stdout",
     "output_type": "stream",
     "text": [
      "\n",
      "\u001b[1mTEST CASE #0\u001b[0m\n",
      "low: 0 high: 7 mid: 3 mid_number: 7\n",
      "\n",
      "Input:\n",
      "{'cards': [13, 11, 10, 7, 4, 3, 1, 0], 'query': 7}\n",
      "\n",
      "Expected Output:\n",
      "3\n",
      "\n",
      "\n",
      "Actual Output:\n",
      "3\n",
      "\n",
      "Execution Time:\n",
      "0.202 ms\n",
      "\n",
      "Test Result:\n",
      "\u001b[92mPASSED\u001b[0m\n",
      "\n",
      "\n",
      "\u001b[1mTEST CASE #1\u001b[0m\n",
      "low: 0 high: 3 mid: 1 mid_number: 2\n",
      "low: 0 high: 0 mid: 0 mid_number: 4\n",
      "\n",
      "Input:\n",
      "{'cards': [4, 2, 1, -1], 'query': 4}\n",
      "\n",
      "Expected Output:\n",
      "0\n",
      "\n",
      "\n",
      "Actual Output:\n",
      "0\n",
      "\n",
      "Execution Time:\n",
      "1.396 ms\n",
      "\n",
      "Test Result:\n",
      "\u001b[92mPASSED\u001b[0m\n",
      "\n",
      "\n",
      "\u001b[1mTEST CASE #2\u001b[0m\n",
      "low: 0 high: 3 mid: 1 mid_number: -1\n",
      "low: 2 high: 3 mid: 2 mid_number: -9\n",
      "low: 3 high: 3 mid: 3 mid_number: -127\n",
      "\n",
      "Input:\n",
      "{'cards': [3, -1, -9, -127], 'query': -127}\n",
      "\n",
      "Expected Output:\n",
      "3\n",
      "\n",
      "\n",
      "Actual Output:\n",
      "3\n",
      "\n",
      "Execution Time:\n",
      "1.11 ms\n",
      "\n",
      "Test Result:\n",
      "\u001b[92mPASSED\u001b[0m\n",
      "\n",
      "\n",
      "\u001b[1mTEST CASE #3\u001b[0m\n",
      "low: 0 high: 0 mid: 0 mid_number: 6\n",
      "\n",
      "Input:\n",
      "{'cards': [6], 'query': 6}\n",
      "\n",
      "Expected Output:\n",
      "0\n",
      "\n",
      "\n",
      "Actual Output:\n",
      "0\n",
      "\n",
      "Execution Time:\n",
      "0.496 ms\n",
      "\n",
      "Test Result:\n",
      "\u001b[92mPASSED\u001b[0m\n",
      "\n",
      "\n",
      "\u001b[1mTEST CASE #4\u001b[0m\n",
      "low: 0 high: 4 mid: 2 mid_number: 5\n",
      "low: 3 high: 4 mid: 3 mid_number: 2\n",
      "\n",
      "Input:\n",
      "{'cards': [9, 7, 5, 2, -9], 'query': 4}\n",
      "\n",
      "Expected Output:\n",
      "-1\n",
      "\n",
      "\n",
      "Actual Output:\n",
      "-1\n",
      "\n",
      "Execution Time:\n",
      "0.991 ms\n",
      "\n",
      "Test Result:\n",
      "\u001b[92mPASSED\u001b[0m\n",
      "\n",
      "\n",
      "\u001b[1mTEST CASE #5\u001b[0m\n",
      "\n",
      "Input:\n",
      "{'cards': [], 'query': 7}\n",
      "\n",
      "Expected Output:\n",
      "-1\n",
      "\n",
      "\n",
      "Actual Output:\n",
      "-1\n",
      "\n",
      "Execution Time:\n",
      "0.008 ms\n",
      "\n",
      "Test Result:\n",
      "\u001b[92mPASSED\u001b[0m\n",
      "\n",
      "\n",
      "\u001b[1mTEST CASE #6\u001b[0m\n",
      "low: 0 high: 13 mid: 6 mid_number: 6\n",
      "low: 7 high: 13 mid: 10 mid_number: 2\n",
      "low: 7 high: 9 mid: 8 mid_number: 2\n",
      "low: 7 high: 7 mid: 7 mid_number: 3\n",
      "\n",
      "Input:\n",
      "{'cards': [8, 8, 6, 6, 6, 6, 6, 3, 2, 2, 2, 0, 0, 0], 'query': 3}\n",
      "\n",
      "Expected Output:\n",
      "7\n",
      "\n",
      "\n",
      "Actual Output:\n",
      "7\n",
      "\n",
      "Execution Time:\n",
      "1.615 ms\n",
      "\n",
      "Test Result:\n",
      "\u001b[92mPASSED\u001b[0m\n",
      "\n",
      "\n",
      "\u001b[1mTEST CASE #7\u001b[0m\n",
      "low: 0 high: 13 mid: 6 mid_number: 6\n",
      "\n",
      "Input:\n",
      "{'cards': [8, 8, 6, 6, 6, 6, 6, 3, 2, 2, 2, 0, 0, 0], 'query': 6}\n",
      "\n",
      "Expected Output:\n",
      "2\n",
      "\n",
      "\n",
      "Actual Output:\n",
      "6\n",
      "\n",
      "Execution Time:\n",
      "0.434 ms\n",
      "\n",
      "Test Result:\n",
      "\u001b[91mFAILED\u001b[0m\n",
      "\n",
      "\n",
      "\u001b[1mTEST CASE #8\u001b[0m\n",
      "low: 0 high: 7 mid: 3 mid_number: 7\n",
      "\n",
      "Input:\n",
      "{'cards': [13, 11, 10, 7, 4, 3, 1, 0], 'query': 7}\n",
      "\n",
      "Expected Output:\n",
      "3\n",
      "\n",
      "\n",
      "Actual Output:\n",
      "3\n",
      "\n",
      "Execution Time:\n",
      "0.258 ms\n",
      "\n",
      "Test Result:\n",
      "\u001b[92mPASSED\u001b[0m\n",
      "\n",
      "\n",
      "\u001b[1mTEST CASE #9\u001b[0m\n",
      "low: 0 high: 7 mid: 3 mid_number: 9\n",
      "low: 4 high: 7 mid: 5 mid_number: 3\n",
      "low: 6 high: 7 mid: 6 mid_number: 1\n",
      "\n",
      "Input:\n",
      "{'cards': [13, 11, 10, 9, 7, 3, 1, 0], 'query': 1}\n",
      "\n",
      "Expected Output:\n",
      "6\n",
      "\n",
      "\n",
      "Actual Output:\n",
      "6\n",
      "\n",
      "Execution Time:\n",
      "6.269 ms\n",
      "\n",
      "Test Result:\n",
      "\u001b[92mPASSED\u001b[0m\n",
      "\n",
      "\n",
      "\u001b[1mSUMMARY\u001b[0m\n",
      "\n",
      "TOTAL: 10, \u001b[92mPASSED\u001b[0m: 9, \u001b[91mFAILED\u001b[0m: 1\n"
     ]
    },
    {
     "data": {
      "text/plain": [
       "[(3, True, 0.202),\n",
       " (0, True, 1.396),\n",
       " (3, True, 1.11),\n",
       " (0, True, 0.496),\n",
       " (-1, True, 0.991),\n",
       " (-1, True, 0.008),\n",
       " (7, True, 1.615),\n",
       " (6, False, 0.434),\n",
       " (3, True, 0.258),\n",
       " (6, True, 6.269)]"
      ]
     },
     "execution_count": 42,
     "metadata": {},
     "output_type": "execute_result"
    }
   ],
   "source": [
    "evaluate_test_cases(locate_card, tests)"
   ]
  },
  {
   "cell_type": "code",
   "execution_count": 43,
   "id": "a1687fa0",
   "metadata": {
    "scrolled": true
   },
   "outputs": [
    {
     "name": "stdout",
     "output_type": "stream",
     "text": [
      "\n",
      "Input:\n",
      "{'cards': [8, 8, 6, 6, 6, 6, 6, 3, 2, 2, 2, 0, 0, 0], 'query': 6}\n",
      "\n",
      "Expected Output:\n",
      "2\n",
      "\n",
      "low: 0 high: 13 mid: 6 mid_number: 6\n",
      "\n",
      "Actual Output:\n",
      "6\n",
      "\n",
      "Execution Time:\n",
      "0.309 ms\n",
      "\n",
      "Test Result:\n",
      "\u001b[91mFAILED\u001b[0m\n",
      "\n"
     ]
    },
    {
     "data": {
      "text/plain": [
       "(6, False, 0.309)"
      ]
     },
     "execution_count": 43,
     "metadata": {},
     "output_type": "execute_result"
    }
   ],
   "source": [
    "evaluate_test_case(locate_card, tests[7])"
   ]
  },
  {
   "cell_type": "code",
   "execution_count": 44,
   "id": "ddab0871",
   "metadata": {},
   "outputs": [],
   "source": [
    "cards7 = tests[7]['input']['cards']\n",
    "query7 = tests[7]['input']['query']"
   ]
  },
  {
   "cell_type": "code",
   "execution_count": 46,
   "id": "419ef86d",
   "metadata": {},
   "outputs": [
    {
     "data": {
      "text/plain": [
       "6"
      ]
     },
     "execution_count": 46,
     "metadata": {},
     "output_type": "execute_result"
    }
   ],
   "source": [
    "cards7[6]"
   ]
  },
  {
   "cell_type": "markdown",
   "id": "a1b7b654",
   "metadata": {},
   "source": [
    "Seems like we did locate a 6 in the array, it's just that it isn't the first 6. As you can guess, this is because in binary search, we don't go over indices in a linear order.\n",
    "\n",
    "So how do we fix it?\n",
    "\n",
    "When we find that `cards[mid]` is equal to `query`, we need to check whether it is the first occorance of `query` in the list. i.e. the number that comes before it.\n",
    "\n",
    "`[8, 8, 6, 6, 6, 6, 6, 3, 2, 2, 2, 0, 0, 0]`\n",
    "\n",
    "To make it easier, we will define a helper function called `test_location`, which will take the list `cards`, the `query` and `mid` as inputs."
   ]
  },
  {
   "cell_type": "code",
   "execution_count": 47,
   "id": "1906c836",
   "metadata": {},
   "outputs": [],
   "source": [
    "def test_location(cards, query, mid):\n",
    "    mid_num = cards[mid]\n",
    "    print('mid:', mid, 'mid_number:', mid_num)\n",
    "    if mid_num == query:\n",
    "        if mid - 1 >= 0 and cards[mid-1] == query:\n",
    "            return 'left'\n",
    "        else:\n",
    "            return 'found'\n",
    "    elif mid_num < query:\n",
    "        return 'left'\n",
    "    else:\n",
    "        return 'right'\n",
    "    \n",
    "def locate_card(cards, query):\n",
    "    low, high = 0, len(cards) - 1\n",
    "    \n",
    "    while low <= high:\n",
    "        print(\"low:\", low, \", high:\", high)\n",
    "        mid = (low + high)//2\n",
    "        result = test_location(cards, query, mid)\n",
    "        \n",
    "        if result == 'found':\n",
    "            return mid\n",
    "        elif result == 'left':\n",
    "            high = mid - 1\n",
    "        elif result == 'right':\n",
    "            low = mid + 1\n",
    "    return -1"
   ]
  },
  {
   "cell_type": "code",
   "execution_count": 48,
   "id": "fbf7bc91",
   "metadata": {},
   "outputs": [
    {
     "name": "stdout",
     "output_type": "stream",
     "text": [
      "\n",
      "Input:\n",
      "{'cards': [8, 8, 6, 6, 6, 6, 6, 3, 2, 2, 2, 0, 0, 0], 'query': 6}\n",
      "\n",
      "Expected Output:\n",
      "2\n",
      "\n",
      "low: 0 , high: 13\n",
      "mid: 6 mid_number: 6\n",
      "low: 0 , high: 5\n",
      "mid: 2 mid_number: 6\n",
      "\n",
      "Actual Output:\n",
      "2\n",
      "\n",
      "Execution Time:\n",
      "0.653 ms\n",
      "\n",
      "Test Result:\n",
      "\u001b[92mPASSED\u001b[0m\n",
      "\n"
     ]
    },
    {
     "data": {
      "text/plain": [
       "(2, True, 0.653)"
      ]
     },
     "execution_count": 48,
     "metadata": {},
     "output_type": "execute_result"
    }
   ],
   "source": [
    "evaluate_test_case(locate_card, tests[7])"
   ]
  },
  {
   "cell_type": "code",
   "execution_count": 49,
   "id": "cea418dc",
   "metadata": {},
   "outputs": [
    {
     "name": "stdout",
     "output_type": "stream",
     "text": [
      "\n",
      "\u001b[1mTEST CASE #0\u001b[0m\n",
      "low: 0 , high: 7\n",
      "mid: 3 mid_number: 7\n",
      "\n",
      "Input:\n",
      "{'cards': [13, 11, 10, 7, 4, 3, 1, 0], 'query': 7}\n",
      "\n",
      "Expected Output:\n",
      "3\n",
      "\n",
      "\n",
      "Actual Output:\n",
      "3\n",
      "\n",
      "Execution Time:\n",
      "0.204 ms\n",
      "\n",
      "Test Result:\n",
      "\u001b[92mPASSED\u001b[0m\n",
      "\n",
      "\n",
      "\u001b[1mTEST CASE #1\u001b[0m\n",
      "low: 0 , high: 3\n",
      "mid: 1 mid_number: 2\n",
      "low: 0 , high: 0\n",
      "mid: 0 mid_number: 4\n",
      "\n",
      "Input:\n",
      "{'cards': [4, 2, 1, -1], 'query': 4}\n",
      "\n",
      "Expected Output:\n",
      "0\n",
      "\n",
      "\n",
      "Actual Output:\n",
      "0\n",
      "\n",
      "Execution Time:\n",
      "1.181 ms\n",
      "\n",
      "Test Result:\n",
      "\u001b[92mPASSED\u001b[0m\n",
      "\n",
      "\n",
      "\u001b[1mTEST CASE #2\u001b[0m\n",
      "low: 0 , high: 3\n",
      "mid: 1 mid_number: -1\n",
      "low: 2 , high: 3\n",
      "mid: 2 mid_number: -9\n",
      "low: 3 , high: 3\n",
      "mid: 3 mid_number: -127\n",
      "\n",
      "Input:\n",
      "{'cards': [3, -1, -9, -127], 'query': -127}\n",
      "\n",
      "Expected Output:\n",
      "3\n",
      "\n",
      "\n",
      "Actual Output:\n",
      "3\n",
      "\n",
      "Execution Time:\n",
      "0.621 ms\n",
      "\n",
      "Test Result:\n",
      "\u001b[92mPASSED\u001b[0m\n",
      "\n",
      "\n",
      "\u001b[1mTEST CASE #3\u001b[0m\n",
      "low: 0 , high: 0\n",
      "mid: 0 mid_number: 6\n",
      "\n",
      "Input:\n",
      "{'cards': [6], 'query': 6}\n",
      "\n",
      "Expected Output:\n",
      "0\n",
      "\n",
      "\n",
      "Actual Output:\n",
      "0\n",
      "\n",
      "Execution Time:\n",
      "0.185 ms\n",
      "\n",
      "Test Result:\n",
      "\u001b[92mPASSED\u001b[0m\n",
      "\n",
      "\n",
      "\u001b[1mTEST CASE #4\u001b[0m\n",
      "low: 0 , high: 4\n",
      "mid: 2 mid_number: 5\n",
      "low: 3 , high: 4\n",
      "mid: 3 mid_number: 2\n",
      "\n",
      "Input:\n",
      "{'cards': [9, 7, 5, 2, -9], 'query': 4}\n",
      "\n",
      "Expected Output:\n",
      "-1\n",
      "\n",
      "\n",
      "Actual Output:\n",
      "-1\n",
      "\n",
      "Execution Time:\n",
      "0.375 ms\n",
      "\n",
      "Test Result:\n",
      "\u001b[92mPASSED\u001b[0m\n",
      "\n",
      "\n",
      "\u001b[1mTEST CASE #5\u001b[0m\n",
      "\n",
      "Input:\n",
      "{'cards': [], 'query': 7}\n",
      "\n",
      "Expected Output:\n",
      "-1\n",
      "\n",
      "\n",
      "Actual Output:\n",
      "-1\n",
      "\n",
      "Execution Time:\n",
      "0.002 ms\n",
      "\n",
      "Test Result:\n",
      "\u001b[92mPASSED\u001b[0m\n",
      "\n",
      "\n",
      "\u001b[1mTEST CASE #6\u001b[0m\n",
      "low: 0 , high: 13\n",
      "mid: 6 mid_number: 6\n",
      "low: 7 , high: 13\n",
      "mid: 10 mid_number: 2\n",
      "low: 7 , high: 9\n",
      "mid: 8 mid_number: 2\n",
      "low: 7 , high: 7\n",
      "mid: 7 mid_number: 3\n",
      "\n",
      "Input:\n",
      "{'cards': [8, 8, 6, 6, 6, 6, 6, 3, 2, 2, 2, 0, 0, 0], 'query': 3}\n",
      "\n",
      "Expected Output:\n",
      "7\n",
      "\n",
      "\n",
      "Actual Output:\n",
      "7\n",
      "\n",
      "Execution Time:\n",
      "0.582 ms\n",
      "\n",
      "Test Result:\n",
      "\u001b[92mPASSED\u001b[0m\n",
      "\n",
      "\n",
      "\u001b[1mTEST CASE #7\u001b[0m\n",
      "low: 0 , high: 13\n",
      "mid: 6 mid_number: 6\n",
      "low: 0 , high: 5\n",
      "mid: 2 mid_number: 6\n",
      "\n",
      "Input:\n",
      "{'cards': [8, 8, 6, 6, 6, 6, 6, 3, 2, 2, 2, 0, 0, 0], 'query': 6}\n",
      "\n",
      "Expected Output:\n",
      "2\n",
      "\n",
      "\n",
      "Actual Output:\n",
      "2\n",
      "\n",
      "Execution Time:\n",
      "0.412 ms\n",
      "\n",
      "Test Result:\n",
      "\u001b[92mPASSED\u001b[0m\n",
      "\n",
      "\n",
      "\u001b[1mTEST CASE #8\u001b[0m\n",
      "low: 0 , high: 7\n",
      "mid: 3 mid_number: 7\n",
      "\n",
      "Input:\n",
      "{'cards': [13, 11, 10, 7, 4, 3, 1, 0], 'query': 7}\n",
      "\n",
      "Expected Output:\n",
      "3\n",
      "\n",
      "\n",
      "Actual Output:\n",
      "3\n",
      "\n",
      "Execution Time:\n",
      "0.252 ms\n",
      "\n",
      "Test Result:\n",
      "\u001b[92mPASSED\u001b[0m\n",
      "\n",
      "\n",
      "\u001b[1mTEST CASE #9\u001b[0m\n",
      "low: 0 , high: 7\n",
      "mid: 3 mid_number: 9\n",
      "low: 4 , high: 7\n",
      "mid: 5 mid_number: 3\n",
      "low: 6 , high: 7\n",
      "mid: 6 mid_number: 1\n",
      "\n",
      "Input:\n",
      "{'cards': [13, 11, 10, 9, 7, 3, 1, 0], 'query': 1}\n",
      "\n",
      "Expected Output:\n",
      "6\n",
      "\n",
      "\n",
      "Actual Output:\n",
      "6\n",
      "\n",
      "Execution Time:\n",
      "0.447 ms\n",
      "\n",
      "Test Result:\n",
      "\u001b[92mPASSED\u001b[0m\n",
      "\n",
      "\n",
      "\u001b[1mSUMMARY\u001b[0m\n",
      "\n",
      "TOTAL: 10, \u001b[92mPASSED\u001b[0m: 10, \u001b[91mFAILED\u001b[0m: 0\n"
     ]
    },
    {
     "data": {
      "text/plain": [
       "[(3, True, 0.204),\n",
       " (0, True, 1.181),\n",
       " (3, True, 0.621),\n",
       " (0, True, 0.185),\n",
       " (-1, True, 0.375),\n",
       " (-1, True, 0.002),\n",
       " (7, True, 0.582),\n",
       " (2, True, 0.412),\n",
       " (3, True, 0.252),\n",
       " (6, True, 0.447)]"
      ]
     },
     "execution_count": 49,
     "metadata": {},
     "output_type": "execute_result"
    }
   ],
   "source": [
    "evaluate_test_cases(locate_card, tests)"
   ]
  },
  {
   "cell_type": "markdown",
   "id": "f1db0473",
   "metadata": {},
   "source": [
    "In fact, once we have written out the algorithm, we may want to add a few more test cases:\n",
    "\n",
    "1. The number lies in the first half of the array.\n",
    "1. The number lies in the second half of the array."
   ]
  },
  {
   "cell_type": "markdown",
   "id": "75e8e387",
   "metadata": {},
   "source": [
    "Here is a final code for the algorithm (without the print statements):"
   ]
  },
  {
   "cell_type": "code",
   "execution_count": 50,
   "id": "08c65422",
   "metadata": {},
   "outputs": [],
   "source": [
    "def test_location(cards, query, mid):\n",
    "    \"\"\"Assumes cards to be a list of integers, query an integer\n",
    "       mid an index of cards.\n",
    "       Returns --> 'found' if query is the first occurance at cards[mid],\n",
    "       'left' if the first occurance of query lies to the left of mid of cards, and \n",
    "       'right' if the first occurance of the query lies to the right of mid of cards.\"\"\"\n",
    "    if cards[mid] == query:\n",
    "        if mid-1 >= 0 and cards[mid-1] == query:\n",
    "            return 'left'\n",
    "        else:\n",
    "            return 'found'\n",
    "    elif cards[mid] < query:\n",
    "        return 'left'\n",
    "    else:\n",
    "        return 'right'\n",
    "    \n",
    "def locate_card(cards, query):\n",
    "    \"\"\"Assumes cards to be a list of integers, query an integer.\n",
    "       Returns--> the index of the first occurance of the query in the list cards.\"\"\"\n",
    "    low, high = 0, len(cards) - 1\n",
    "    while low <= high:\n",
    "        mid = (low + high)//2\n",
    "        result = test_location(cards, query, mid)\n",
    "        if result == 'found':\n",
    "            return mid\n",
    "        elif result == 'left':\n",
    "            high = mid - 1\n",
    "        elif result == 'right':\n",
    "            low = mid + 1\n",
    "    return -1"
   ]
  },
  {
   "cell_type": "code",
   "execution_count": 51,
   "id": "6a9fcdf3",
   "metadata": {},
   "outputs": [
    {
     "name": "stdout",
     "output_type": "stream",
     "text": [
      "\n",
      "\u001b[1mTEST CASE #0\u001b[0m\n",
      "\n",
      "Input:\n",
      "{'cards': [13, 11, 10, 7, 4, 3, 1, 0], 'query': 7}\n",
      "\n",
      "Expected Output:\n",
      "3\n",
      "\n",
      "\n",
      "Actual Output:\n",
      "3\n",
      "\n",
      "Execution Time:\n",
      "0.005 ms\n",
      "\n",
      "Test Result:\n",
      "\u001b[92mPASSED\u001b[0m\n",
      "\n",
      "\n",
      "\u001b[1mTEST CASE #1\u001b[0m\n",
      "\n",
      "Input:\n",
      "{'cards': [4, 2, 1, -1], 'query': 4}\n",
      "\n",
      "Expected Output:\n",
      "0\n",
      "\n",
      "\n",
      "Actual Output:\n",
      "0\n",
      "\n",
      "Execution Time:\n",
      "0.007 ms\n",
      "\n",
      "Test Result:\n",
      "\u001b[92mPASSED\u001b[0m\n",
      "\n",
      "\n",
      "\u001b[1mTEST CASE #2\u001b[0m\n",
      "\n",
      "Input:\n",
      "{'cards': [3, -1, -9, -127], 'query': -127}\n",
      "\n",
      "Expected Output:\n",
      "3\n",
      "\n",
      "\n",
      "Actual Output:\n",
      "3\n",
      "\n",
      "Execution Time:\n",
      "0.01 ms\n",
      "\n",
      "Test Result:\n",
      "\u001b[92mPASSED\u001b[0m\n",
      "\n",
      "\n",
      "\u001b[1mTEST CASE #3\u001b[0m\n",
      "\n",
      "Input:\n",
      "{'cards': [6], 'query': 6}\n",
      "\n",
      "Expected Output:\n",
      "0\n",
      "\n",
      "\n",
      "Actual Output:\n",
      "0\n",
      "\n",
      "Execution Time:\n",
      "0.007 ms\n",
      "\n",
      "Test Result:\n",
      "\u001b[92mPASSED\u001b[0m\n",
      "\n",
      "\n",
      "\u001b[1mTEST CASE #4\u001b[0m\n",
      "\n",
      "Input:\n",
      "{'cards': [9, 7, 5, 2, -9], 'query': 4}\n",
      "\n",
      "Expected Output:\n",
      "-1\n",
      "\n",
      "\n",
      "Actual Output:\n",
      "-1\n",
      "\n",
      "Execution Time:\n",
      "0.007 ms\n",
      "\n",
      "Test Result:\n",
      "\u001b[92mPASSED\u001b[0m\n",
      "\n",
      "\n",
      "\u001b[1mTEST CASE #5\u001b[0m\n",
      "\n",
      "Input:\n",
      "{'cards': [], 'query': 7}\n",
      "\n",
      "Expected Output:\n",
      "-1\n",
      "\n",
      "\n",
      "Actual Output:\n",
      "-1\n",
      "\n",
      "Execution Time:\n",
      "0.005 ms\n",
      "\n",
      "Test Result:\n",
      "\u001b[92mPASSED\u001b[0m\n",
      "\n",
      "\n",
      "\u001b[1mTEST CASE #6\u001b[0m\n",
      "\n",
      "Input:\n",
      "{'cards': [8, 8, 6, 6, 6, 6, 6, 3, 2, 2, 2, 0, 0, 0], 'query': 3}\n",
      "\n",
      "Expected Output:\n",
      "7\n",
      "\n",
      "\n",
      "Actual Output:\n",
      "7\n",
      "\n",
      "Execution Time:\n",
      "0.008 ms\n",
      "\n",
      "Test Result:\n",
      "\u001b[92mPASSED\u001b[0m\n",
      "\n",
      "\n",
      "\u001b[1mTEST CASE #7\u001b[0m\n",
      "\n",
      "Input:\n",
      "{'cards': [8, 8, 6, 6, 6, 6, 6, 3, 2, 2, 2, 0, 0, 0], 'query': 6}\n",
      "\n",
      "Expected Output:\n",
      "2\n",
      "\n",
      "\n",
      "Actual Output:\n",
      "2\n",
      "\n",
      "Execution Time:\n",
      "0.004 ms\n",
      "\n",
      "Test Result:\n",
      "\u001b[92mPASSED\u001b[0m\n",
      "\n",
      "\n",
      "\u001b[1mTEST CASE #8\u001b[0m\n",
      "\n",
      "Input:\n",
      "{'cards': [13, 11, 10, 7, 4, 3, 1, 0], 'query': 7}\n",
      "\n",
      "Expected Output:\n",
      "3\n",
      "\n",
      "\n",
      "Actual Output:\n",
      "3\n",
      "\n",
      "Execution Time:\n",
      "0.003 ms\n",
      "\n",
      "Test Result:\n",
      "\u001b[92mPASSED\u001b[0m\n",
      "\n",
      "\n",
      "\u001b[1mTEST CASE #9\u001b[0m\n",
      "\n",
      "Input:\n",
      "{'cards': [13, 11, 10, 9, 7, 3, 1, 0], 'query': 1}\n",
      "\n",
      "Expected Output:\n",
      "6\n",
      "\n",
      "\n",
      "Actual Output:\n",
      "6\n",
      "\n",
      "Execution Time:\n",
      "0.004 ms\n",
      "\n",
      "Test Result:\n",
      "\u001b[92mPASSED\u001b[0m\n",
      "\n",
      "\n",
      "\u001b[1mSUMMARY\u001b[0m\n",
      "\n",
      "TOTAL: 10, \u001b[92mPASSED\u001b[0m: 10, \u001b[91mFAILED\u001b[0m: 0\n"
     ]
    },
    {
     "data": {
      "text/plain": [
       "[(3, True, 0.005),\n",
       " (0, True, 0.007),\n",
       " (3, True, 0.01),\n",
       " (0, True, 0.007),\n",
       " (-1, True, 0.007),\n",
       " (-1, True, 0.005),\n",
       " (7, True, 0.008),\n",
       " (2, True, 0.004),\n",
       " (3, True, 0.003),\n",
       " (6, True, 0.004)]"
      ]
     },
     "execution_count": 51,
     "metadata": {},
     "output_type": "execute_result"
    }
   ],
   "source": [
    "evaluate_test_cases(locate_card, tests)"
   ]
  },
  {
   "cell_type": "markdown",
   "id": "b3972fdd",
   "metadata": {},
   "source": [
    "#### 9. Analyze the algorithm's complexity and identify inefficiencies, if any.\n",
    "\n",
    "Once again, let's try to count the number of iterations in the alforithm. If we start out with an array of N elements, then each time the size of the array reduces to half for the next iterations, until we are left with just 1 element.\n",
    "\n",
    "Initial length - N\n",
    "Iteration 1 - N/2\n",
    "Iteration 2 - N/4 i.e. N/2^2\n",
    "\n",
    "...\n",
    "\n",
    "Iteration k - N/2^k\n",
    "\n",
    "Since the final length of the array is 1, we can find the `N/2^k = 1`\n",
    "Rearrangin the terms, we get \n",
    "`N = 2^k`\n",
    "\n",
    "Taking the logarithm\n",
    "\n",
    "`k = log N`. \n",
    "\n",
    "Where log refers to log to the base 2. Therefore, our algorithm has the time complexity **O(log N)**.\n",
    "This fact is often stated as: binary search *runs* in logarithmic time. You can verify that the space complexity of binary search is **O(1)**."
   ]
  },
  {
   "cell_type": "markdown",
   "id": "d067ca56",
   "metadata": {},
   "source": [
    "**Binary Search vs. Linear Search**"
   ]
  },
  {
   "cell_type": "code",
   "execution_count": 52,
   "id": "257df76c",
   "metadata": {},
   "outputs": [],
   "source": [
    "def locate_card_linear(cards, query):\n",
    "    position = 0\n",
    "    while position < len(cards):\n",
    "        if cards[position] == query:\n",
    "            return position\n",
    "        position += 1\n",
    "    return -1"
   ]
  },
  {
   "cell_type": "code",
   "execution_count": 53,
   "id": "b0ea188e",
   "metadata": {},
   "outputs": [],
   "source": [
    "large_test = {\n",
    "    \"input\": {\n",
    "        \"cards\": list(range(10000000, 0, -1)),\n",
    "        \"query\": 2\n",
    "    },\n",
    "    \"output\": 9999998\n",
    "}"
   ]
  },
  {
   "cell_type": "code",
   "execution_count": 54,
   "id": "d6abc5ee",
   "metadata": {},
   "outputs": [
    {
     "name": "stdout",
     "output_type": "stream",
     "text": [
      "Result: 9999998\n",
      "Passed: True \n",
      "Execution Time:2281.396 ms\n"
     ]
    }
   ],
   "source": [
    "result, passed, runtime = evaluate_test_case(locate_card_linear, large_test, display = False)\n",
    "print(\"Result: {}\\nPassed: {} \\nExecution Time:{} ms\".format(result, passed, runtime))"
   ]
  },
  {
   "cell_type": "code",
   "execution_count": 55,
   "id": "61796555",
   "metadata": {},
   "outputs": [
    {
     "name": "stdout",
     "output_type": "stream",
     "text": [
      "Result: 9999998\n",
      "Passed: True \n",
      "Execution Time:0.021 ms\n"
     ]
    }
   ],
   "source": [
    "result, passed, runtime = evaluate_test_case(locate_card, large_test, display = False)\n",
    "print(\"Result: {}\\nPassed: {} \\nExecution Time:{} ms\".format(result, passed, runtime))"
   ]
  },
  {
   "cell_type": "markdown",
   "id": "ddecf77b",
   "metadata": {},
   "source": [
    "The binary search version is over 55,000 times faster than the linear search version.\n",
    "\n",
    "Furthermore, as the size of the input grows larger, the difference only gets bigger. For a list 10 times, the size, linear search would run for 10 times longer, whereas binary search would only require 3 additioanl operations! That's the real difference between the complexity of **O(N)** and **O(log N)**.\n",
    "\n",
    "Another way to look at it is that binary search runs `c * N / log N` times faster than linear search, for some fixed constant `c`. Since `log N` grows very slowly compared to `N`, the difference gets larger with the size of the input."
   ]
  },
  {
   "cell_type": "markdown",
   "id": "0e0b5045",
   "metadata": {},
   "source": [
    "### Generic Binary Search\n",
    "\n",
    "Here is the general strategy behind binary search, which is applicable to a variety of problems:\n",
    "\n",
    "1. Come up with a condition to determine whether the answer lies before, after or at a given position.\n",
    "1. Retrieve the midpoint and the middle element of the list.\n",
    "1. If it is the answer, return the middle position as the answer.\n",
    "1. If the answer lies before it, repeat the search with the first half of the list.\n",
    "1. If the answer lies after it, repeat the search with the second half of the list.\n",
    "\n",
    "Here is the generic algorithm for binary search, implemented in Python:"
   ]
  },
  {
   "cell_type": "code",
   "execution_count": 56,
   "id": "6722d0da",
   "metadata": {},
   "outputs": [],
   "source": [
    "def binary_search(low, high, condition):\n",
    "    \"\"\"Assumes low and high as the boundary indices and \n",
    "       condition as a function which takes an index as an parameter.\n",
    "       Returns --> the index with the element.\"\"\"\n",
    "    \n",
    "    while low <= high:\n",
    "        mid = (low + high)//2\n",
    "        result = condition(mid)\n",
    "        if result == 'found':\n",
    "            return mid\n",
    "        elif result == 'left':\n",
    "            high = mid - 1\n",
    "        else:\n",
    "            low = mid + 1\n",
    "    return -1"
   ]
  },
  {
   "cell_type": "markdown",
   "id": "0a3751ab",
   "metadata": {},
   "source": [
    "The worst-case complexity or running time of bianry search is **O(log N)**, provided the complexity of the condition used to determine whether the answer lies before, after, or at a given position is **O(1)**.\n",
    "\n",
    "Note that `binary_search` accepts a function `condition` as an argument. Python allows passing functions as arguments to other functions, unlike C++ and Java.\n",
    "\n",
    "We can now rewrite the `locate_card` function using the `binary_search` function."
   ]
  },
  {
   "cell_type": "code",
   "execution_count": 57,
   "id": "10214ce2",
   "metadata": {},
   "outputs": [],
   "source": [
    "def locate_card(cards, query):\n",
    "    \n",
    "    def condition(mid):\n",
    "        if cards[mid] == query:\n",
    "            if mid > 0 and cards[mid - 1] == query:\n",
    "                return 'left'\n",
    "            else:\n",
    "                return 'found'\n",
    "        elif cards[mid] < query:\n",
    "            return 'left'\n",
    "        else:\n",
    "            return 'right'\n",
    "        \n",
    "    return binary_search(0, len(cards)-1, condition)"
   ]
  },
  {
   "cell_type": "code",
   "execution_count": 59,
   "id": "ecef4d9d",
   "metadata": {},
   "outputs": [
    {
     "name": "stdout",
     "output_type": "stream",
     "text": [
      "\n",
      "\u001b[1mTEST CASE #0\u001b[0m\n",
      "\n",
      "Input:\n",
      "{'cards': [13, 11, 10, 7, 4, 3, 1, 0], 'query': 7}\n",
      "\n",
      "Expected Output:\n",
      "3\n",
      "\n",
      "\n",
      "Actual Output:\n",
      "3\n",
      "\n",
      "Execution Time:\n",
      "0.005 ms\n",
      "\n",
      "Test Result:\n",
      "\u001b[92mPASSED\u001b[0m\n",
      "\n",
      "\n",
      "\u001b[1mTEST CASE #1\u001b[0m\n",
      "\n",
      "Input:\n",
      "{'cards': [4, 2, 1, -1], 'query': 4}\n",
      "\n",
      "Expected Output:\n",
      "0\n",
      "\n",
      "\n",
      "Actual Output:\n",
      "0\n",
      "\n",
      "Execution Time:\n",
      "0.006 ms\n",
      "\n",
      "Test Result:\n",
      "\u001b[92mPASSED\u001b[0m\n",
      "\n",
      "\n",
      "\u001b[1mTEST CASE #2\u001b[0m\n",
      "\n",
      "Input:\n",
      "{'cards': [3, -1, -9, -127], 'query': -127}\n",
      "\n",
      "Expected Output:\n",
      "3\n",
      "\n",
      "\n",
      "Actual Output:\n",
      "3\n",
      "\n",
      "Execution Time:\n",
      "0.007 ms\n",
      "\n",
      "Test Result:\n",
      "\u001b[92mPASSED\u001b[0m\n",
      "\n",
      "\n",
      "\u001b[1mTEST CASE #3\u001b[0m\n",
      "\n",
      "Input:\n",
      "{'cards': [6], 'query': 6}\n",
      "\n",
      "Expected Output:\n",
      "0\n",
      "\n",
      "\n",
      "Actual Output:\n",
      "0\n",
      "\n",
      "Execution Time:\n",
      "0.005 ms\n",
      "\n",
      "Test Result:\n",
      "\u001b[92mPASSED\u001b[0m\n",
      "\n",
      "\n",
      "\u001b[1mTEST CASE #4\u001b[0m\n",
      "\n",
      "Input:\n",
      "{'cards': [9, 7, 5, 2, -9], 'query': 4}\n",
      "\n",
      "Expected Output:\n",
      "-1\n",
      "\n",
      "\n",
      "Actual Output:\n",
      "-1\n",
      "\n",
      "Execution Time:\n",
      "0.005 ms\n",
      "\n",
      "Test Result:\n",
      "\u001b[92mPASSED\u001b[0m\n",
      "\n",
      "\n",
      "\u001b[1mTEST CASE #5\u001b[0m\n",
      "\n",
      "Input:\n",
      "{'cards': [], 'query': 7}\n",
      "\n",
      "Expected Output:\n",
      "-1\n",
      "\n",
      "\n",
      "Actual Output:\n",
      "-1\n",
      "\n",
      "Execution Time:\n",
      "0.003 ms\n",
      "\n",
      "Test Result:\n",
      "\u001b[92mPASSED\u001b[0m\n",
      "\n",
      "\n",
      "\u001b[1mTEST CASE #6\u001b[0m\n",
      "\n",
      "Input:\n",
      "{'cards': [8, 8, 6, 6, 6, 6, 6, 3, 2, 2, 2, 0, 0, 0], 'query': 3}\n",
      "\n",
      "Expected Output:\n",
      "7\n",
      "\n",
      "\n",
      "Actual Output:\n",
      "7\n",
      "\n",
      "Execution Time:\n",
      "0.01 ms\n",
      "\n",
      "Test Result:\n",
      "\u001b[92mPASSED\u001b[0m\n",
      "\n",
      "\n",
      "\u001b[1mTEST CASE #7\u001b[0m\n",
      "\n",
      "Input:\n",
      "{'cards': [8, 8, 6, 6, 6, 6, 6, 3, 2, 2, 2, 0, 0, 0], 'query': 6}\n",
      "\n",
      "Expected Output:\n",
      "2\n",
      "\n",
      "\n",
      "Actual Output:\n",
      "2\n",
      "\n",
      "Execution Time:\n",
      "0.006 ms\n",
      "\n",
      "Test Result:\n",
      "\u001b[92mPASSED\u001b[0m\n",
      "\n",
      "\n",
      "\u001b[1mTEST CASE #8\u001b[0m\n",
      "\n",
      "Input:\n",
      "{'cards': [13, 11, 10, 7, 4, 3, 1, 0], 'query': 7}\n",
      "\n",
      "Expected Output:\n",
      "3\n",
      "\n",
      "\n",
      "Actual Output:\n",
      "3\n",
      "\n",
      "Execution Time:\n",
      "0.004 ms\n",
      "\n",
      "Test Result:\n",
      "\u001b[92mPASSED\u001b[0m\n",
      "\n",
      "\n",
      "\u001b[1mTEST CASE #9\u001b[0m\n",
      "\n",
      "Input:\n",
      "{'cards': [13, 11, 10, 9, 7, 3, 1, 0], 'query': 1}\n",
      "\n",
      "Expected Output:\n",
      "6\n",
      "\n",
      "\n",
      "Actual Output:\n",
      "6\n",
      "\n",
      "Execution Time:\n",
      "0.008 ms\n",
      "\n",
      "Test Result:\n",
      "\u001b[92mPASSED\u001b[0m\n",
      "\n",
      "\n",
      "\u001b[1mSUMMARY\u001b[0m\n",
      "\n",
      "TOTAL: 10, \u001b[92mPASSED\u001b[0m: 10, \u001b[91mFAILED\u001b[0m: 0\n"
     ]
    },
    {
     "data": {
      "text/plain": [
       "[(3, True, 0.005),\n",
       " (0, True, 0.006),\n",
       " (3, True, 0.007),\n",
       " (0, True, 0.005),\n",
       " (-1, True, 0.005),\n",
       " (-1, True, 0.003),\n",
       " (7, True, 0.01),\n",
       " (2, True, 0.006),\n",
       " (3, True, 0.004),\n",
       " (6, True, 0.008)]"
      ]
     },
     "execution_count": 59,
     "metadata": {},
     "output_type": "execute_result"
    }
   ],
   "source": [
    "evaluate_test_cases(locate_card, tests)"
   ]
  },
  {
   "cell_type": "markdown",
   "id": "abc19f4d",
   "metadata": {},
   "source": [
    "The `binary_search` function can now be used to solve other problems too. It is a tested piece of logic.\n",
    "\n",
    "> **Question**: Given an array of integer numbers sorted in ascending order, find the starting and ending position of a given number.\n",
    "\n",
    "This differs from the problem in only two significant ways:\n",
    "\n",
    "1. The numbers are sorted in increasing order.\n",
    "1. We are looking for both the increasing order and the decreasing order.\n",
    "\n",
    "Here is the full code for solving the question, obtained by making minor modifications to our previous function:"
   ]
  },
  {
   "cell_type": "code",
   "execution_count": 64,
   "id": "f8a633c8",
   "metadata": {},
   "outputs": [],
   "source": [
    "def first_position(nums, target):\n",
    "    \"\"\"Assumes nums as list of ints and target as an int.\n",
    "       Returns the position of the first occurance of the target in the nums.\"\"\"\n",
    "    def condition(mid):\n",
    "        \"\"\"Assumes mid to be an int, an index of nums.\n",
    "           Returns -->'found' if nums[mid] is the first occurance of target,\n",
    "           Returns --> 'left' if nums[mid] is either > target or nums[mid] == target\n",
    "           but it is not the first occurance.\n",
    "           Returns --> 'right' if nums[mid] is < target.\"\"\"\n",
    "        if nums[mid] == target:\n",
    "            if mid > 0 and nums[mid-1] == target:\n",
    "                return 'left'\n",
    "            return 'found'\n",
    "        elif nums[mid] < target:\n",
    "            return 'right'\n",
    "        else:\n",
    "            return 'left'\n",
    "    return binary_search(0, len(nums) - 1, condition)\n",
    "\n",
    "def last_position(nums, target):\n",
    "    \"\"\"Assumes nums as list of ints and target as an int.\n",
    "       Returns the position of the last occurance of the target in the nums.\"\"\"\n",
    "    def condition(mid):\n",
    "        if nums[mid] == target:\n",
    "            if mid < len(nums) - 1 and nums[mid + 1] == target:\n",
    "                return 'right'\n",
    "            return 'found'\n",
    "        elif nums[mid] < target:\n",
    "            return 'right'\n",
    "        else:\n",
    "            return 'left'\n",
    "    return binary_search(0, len(nums) -1, condition)"
   ]
  },
  {
   "cell_type": "code",
   "execution_count": 65,
   "id": "b76b0ff2",
   "metadata": {},
   "outputs": [],
   "source": [
    "first_position_test = {\"input\": {\n",
    "    \"nums\" : [1,2,5,5,5,8,9,9,16,17,19,19,19,25,29,32,32,44],\n",
    "    \"target\": 19\n",
    "},\n",
    "       \"output\": 10}\n",
    "last_position_test = {\"input\": {\n",
    "    \"nums\" : [1,2,5,5,5,8,9,9,16,17,19,19,19,25,29,32,32,44],\n",
    "    \"target\": 19\n",
    "},\n",
    "       \"output\": 12}"
   ]
  },
  {
   "cell_type": "code",
   "execution_count": 66,
   "id": "f63603e1",
   "metadata": {},
   "outputs": [
    {
     "name": "stdout",
     "output_type": "stream",
     "text": [
      "\n",
      "Input:\n",
      "{'nums': [1, 2, 5, 5, 5, 8, 9, 9, 16, 17, 19, 19, 19, 25, 29, 32, 32, 44], 'target': 19}\n",
      "\n",
      "Expected Output:\n",
      "10\n",
      "\n",
      "\n",
      "Actual Output:\n",
      "10\n",
      "\n",
      "Execution Time:\n",
      "0.011 ms\n",
      "\n",
      "Test Result:\n",
      "\u001b[92mPASSED\u001b[0m\n",
      "\n"
     ]
    },
    {
     "data": {
      "text/plain": [
       "(10, True, 0.011)"
      ]
     },
     "execution_count": 66,
     "metadata": {},
     "output_type": "execute_result"
    }
   ],
   "source": [
    "evaluate_test_case(first_position, first_position_test)"
   ]
  },
  {
   "cell_type": "code",
   "execution_count": 67,
   "id": "4394bc36",
   "metadata": {},
   "outputs": [
    {
     "name": "stdout",
     "output_type": "stream",
     "text": [
      "\n",
      "Input:\n",
      "{'nums': [1, 2, 5, 5, 5, 8, 9, 9, 16, 17, 19, 19, 19, 25, 29, 32, 32, 44], 'target': 19}\n",
      "\n",
      "Expected Output:\n",
      "12\n",
      "\n",
      "\n",
      "Actual Output:\n",
      "12\n",
      "\n",
      "Execution Time:\n",
      "0.011 ms\n",
      "\n",
      "Test Result:\n",
      "\u001b[92mPASSED\u001b[0m\n",
      "\n"
     ]
    },
    {
     "data": {
      "text/plain": [
       "(12, True, 0.011)"
      ]
     },
     "execution_count": 67,
     "metadata": {},
     "output_type": "execute_result"
    }
   ],
   "source": [
    "evaluate_test_case(last_position, last_position_test)"
   ]
  },
  {
   "cell_type": "code",
   "execution_count": null,
   "id": "620fbc6d",
   "metadata": {},
   "outputs": [],
   "source": []
  }
 ],
 "metadata": {
  "kernelspec": {
   "display_name": "Python 3",
   "language": "python",
   "name": "python3"
  },
  "language_info": {
   "codemirror_mode": {
    "name": "ipython",
    "version": 3
   },
   "file_extension": ".py",
   "mimetype": "text/x-python",
   "name": "python",
   "nbconvert_exporter": "python",
   "pygments_lexer": "ipython3",
   "version": "3.8.8"
  }
 },
 "nbformat": 4,
 "nbformat_minor": 5
}
