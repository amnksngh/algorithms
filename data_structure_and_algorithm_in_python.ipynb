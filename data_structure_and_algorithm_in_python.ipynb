{
 "cells": [
  {
   "cell_type": "markdown",
   "id": "121ff52e",
   "metadata": {},
   "source": [
    "### Steps to proceed:\n",
    "#### 1. State the problem clearly. Identify the input and output formats.\n",
    "\n",
    " - We need to write a program to find the position of a given number in a list of numbers arranged in decreasing order. We also need to minimize the number of times we access elements from the list.\n",
    " \n",
    "#### Inputs\n",
    "\n",
    "1. `cards`: A list of numbers in decreasing order. Eg. `[13,11,10,7,4,3,1]`\n",
    "1. `query`: A number, whose position in the array is to be determined. E.g. `7`\n",
    "\n",
    "#### Output\n",
    "\n",
    "1. `position`: The position of `query` in the list `cards`. E.g. `3` in the above case (counting from `0`)"
   ]
  },
  {
   "cell_type": "code",
   "execution_count": 1,
   "id": "ddf0ba36",
   "metadata": {},
   "outputs": [],
   "source": [
    "# signature of the function\n",
    "def locate_card(cards, query):\n",
    "    pass"
   ]
  },
  {
   "cell_type": "markdown",
   "id": "440413be",
   "metadata": {},
   "source": [
    "#### Tips:\n",
    "- Name your function appropriately and thinkn carefully about the signature\n",
    "- Discuss the problem with the interviewer if your are unsure how to frame it in abstract terms\n",
    "- Use descriptive variable names, otherwise you may forget what a variable represents"
   ]
  },
  {
   "cell_type": "markdown",
   "id": "c5f39632",
   "metadata": {},
   "source": [
    "#### 2. Come up with some example inputs and outputs. Try to cover all edge cases.\n",
    "\n",
    "Before we start implementing our function, it would be useful to come up with some example inputs and outputs which we can use later to test our problem. We'll refer to them as *test cases*.\n",
    "\n",
    "Here is the test case described in the example above."
   ]
  },
  {
   "cell_type": "code",
   "execution_count": 2,
   "id": "6214efb6",
   "metadata": {},
   "outputs": [],
   "source": [
    "cards = [13,11,10,7,4,3,1,0]\n",
    "query = 7\n",
    "output = 3"
   ]
  },
  {
   "cell_type": "markdown",
   "id": "41e2abd3",
   "metadata": {},
   "source": [
    "We can test our functions by passing the inputs into functions and comparing the result with the expected output."
   ]
  },
  {
   "cell_type": "code",
   "execution_count": 3,
   "id": "5b57df38",
   "metadata": {},
   "outputs": [
    {
     "name": "stdout",
     "output_type": "stream",
     "text": [
      "None\n"
     ]
    }
   ],
   "source": [
    "result = locate_card(cards, query)\n",
    "print(result)"
   ]
  },
  {
   "cell_type": "code",
   "execution_count": 4,
   "id": "ca71cbae",
   "metadata": {},
   "outputs": [
    {
     "data": {
      "text/plain": [
       "False"
      ]
     },
     "execution_count": 4,
     "metadata": {},
     "output_type": "execute_result"
    }
   ],
   "source": [
    "result == output"
   ]
  },
  {
   "cell_type": "markdown",
   "id": "5b32c90a",
   "metadata": {},
   "source": [
    "Obviously, the two results does not match the output as we have not yet implemented the function. \n",
    "\n",
    "We'll represent our test cases as dictionaried to make it easier to test them once we write implement our function. For example, the above test case can be represented as follows:"
   ]
  },
  {
   "cell_type": "code",
   "execution_count": 5,
   "id": "685b44fe",
   "metadata": {},
   "outputs": [],
   "source": [
    "test = {\n",
    "    'input':{\n",
    "        'cards': [13, 11, 10, 7, 4, 3, 1, 0],\n",
    "        'query': 7\n",
    "    },\n",
    "    'output': 3\n",
    "}"
   ]
  },
  {
   "cell_type": "markdown",
   "id": "3c3e28b3",
   "metadata": {},
   "source": [
    "The function can now be tested as follows."
   ]
  },
  {
   "cell_type": "code",
   "execution_count": 7,
   "id": "577e98e7",
   "metadata": {},
   "outputs": [
    {
     "data": {
      "text/plain": [
       "False"
      ]
     },
     "execution_count": 7,
     "metadata": {},
     "output_type": "execute_result"
    }
   ],
   "source": [
    "locate_card(**test['input']) == test['output']\n",
    "\n",
    "# locate_card(test['input']['cards'], test['input']['query']) == test['output']"
   ]
  },
  {
   "cell_type": "markdown",
   "id": "2370a503",
   "metadata": {},
   "source": [
    "Our function should be able to handle any set of valid inputs as we pass into it. Here's a list of some possible variations we might encounter:\n",
    "\n",
    "1. The number `query` occurs somewhere in the middle of the list `cards`.\n",
    "1. `query` is the first element in `cards`.\n",
    "1. `query` is the last element in `cards`.\n",
    "1. The list `cards` contains just one element, which is query.\n",
    "1. The list `cards` does not contain any number `query`.\n",
    "1. The list `cards` is empty.\n",
    "1. The list `cards` contains repeating numbers.\n",
    "1. The number `query` occurs at more than one position in `cards`.\n",
    "\n",
    "While edge cases may not occur frequently, your programs should be able to handle an edge case, otherwise they may fail in unexpected ways. Let's create some more test cases for the variations listed above. We'll store all our test cases in an list for easier testing."
   ]
  },
  {
   "cell_type": "code",
   "execution_count": 8,
   "id": "ca2169ba",
   "metadata": {},
   "outputs": [],
   "source": [
    "tests = []"
   ]
  },
  {
   "cell_type": "code",
   "execution_count": 30,
   "id": "375528df",
   "metadata": {},
   "outputs": [],
   "source": [
    "# query occurs in the middle\n",
    "tests.append(test)\n",
    "\n",
    "tests.append({\n",
    "    'input': {\n",
    "        'cards': [13, 11, 10, 9, 7, 3, 1, 0],\n",
    "        'query' : 1\n",
    "    },\n",
    "    'output': 6\n",
    "})"
   ]
  },
  {
   "cell_type": "code",
   "execution_count": 11,
   "id": "47f47879",
   "metadata": {},
   "outputs": [],
   "source": [
    "# query is the first element\n",
    "tests.append({\n",
    "    'input': {\n",
    "        'cards': [4, 2, 1, -1],\n",
    "        'query': 4\n",
    "    }, \n",
    "    'output': 0\n",
    "})"
   ]
  },
  {
   "cell_type": "code",
   "execution_count": 12,
   "id": "d4731a6a",
   "metadata": {},
   "outputs": [],
   "source": [
    "# query is the last element \n",
    "tests.append({\n",
    "    'input': {\n",
    "        'cards': [3, -1, -9, -127],\n",
    "        'query': -127\n",
    "    }, \n",
    "    'output': 3\n",
    "})"
   ]
  },
  {
   "cell_type": "code",
   "execution_count": 13,
   "id": "954b9b30",
   "metadata": {},
   "outputs": [],
   "source": [
    "# cards contains just one element, query\n",
    "tests.append({\n",
    "    'input': {\n",
    "        'cards': [6],\n",
    "        'query': 6\n",
    "    }, \n",
    "    'output': 0\n",
    "})"
   ]
  },
  {
   "cell_type": "markdown",
   "id": "0ada1dfc",
   "metadata": {},
   "source": [
    "The problem statement does not specify what to do if the list `cards` does not contain the number `query`.\n",
    "\n",
    "1. Read the problem statement again, carefully.\n",
    "1. Look through the examples provided with the problem.\n",
    "1. Ask the interviewer/platform for a clarification.\n",
    "1. Make a reasonable assumtion, state it and move forward.\n",
    "\n",
    "We will assume that our function will return `-1` in case `cards` does not contain `query`."
   ]
  },
  {
   "cell_type": "code",
   "execution_count": 14,
   "id": "3bdcd77c",
   "metadata": {},
   "outputs": [],
   "source": [
    "# cards does not contain query\n",
    "tests.append({\n",
    "    'input': {\n",
    "        'cards': [9, 7, 5, 2, -9],\n",
    "        'query': 4\n",
    "    }, \n",
    "    'output': -1\n",
    "})"
   ]
  },
  {
   "cell_type": "code",
   "execution_count": 15,
   "id": "e1127f54",
   "metadata": {},
   "outputs": [],
   "source": [
    "# cards is empty\n",
    "tests.append({\n",
    "    'input': {\n",
    "        'cards': [],\n",
    "        'query': 7\n",
    "    }, \n",
    "    'output': -1\n",
    "})"
   ]
  },
  {
   "cell_type": "code",
   "execution_count": 16,
   "id": "c8abf357",
   "metadata": {},
   "outputs": [],
   "source": [
    "# numbers can repeat in cards\n",
    "tests.append({\n",
    "    'input': {\n",
    "        'cards': [8, 8, 6, 6, 6, 6, 6, 3, 2, 2, 2, 0, 0, 0],\n",
    "        'query': 3\n",
    "    }, \n",
    "    'output': 7\n",
    "})"
   ]
  },
  {
   "cell_type": "markdown",
   "id": "7be94dab",
   "metadata": {},
   "source": [
    "In the case where `query` occurs multiple times in `cards`, we'll expect our function to return the first occurance of query.\n",
    "\n",
    "While it may also be acceptable for the function to return any position where `query` occurs within the list, it would be slightly more difficult to test the function, as the output is non-deterministic."
   ]
  },
  {
   "cell_type": "code",
   "execution_count": 17,
   "id": "c28918b1",
   "metadata": {},
   "outputs": [],
   "source": [
    "# query occurs multiple times\n",
    "tests.append({\n",
    "    'input': {\n",
    "        'cards': [8, 8, 6, 6, 6, 6, 6, 3, 2, 2, 2, 0, 0, 0],\n",
    "        'query': 6\n",
    "    }, \n",
    "    'output': 2\n",
    "})"
   ]
  },
  {
   "cell_type": "markdown",
   "id": "fa88d0e5",
   "metadata": {},
   "source": [
    "Let's look at the full set of test cases we have created so far."
   ]
  },
  {
   "cell_type": "code",
   "execution_count": 18,
   "id": "e9330b68",
   "metadata": {},
   "outputs": [
    {
     "data": {
      "text/plain": [
       "[{'input': {'cards': [13, 11, 10, 7, 4, 3, 1, 0], 'query': 7}, 'output': 3},\n",
       " {'input': {'cards': [13, 11, 10, 7, 3, 1, 0], 'query': 1}, 'output': 6},\n",
       " {'input': {'cards': [4, 2, 1, -1], 'query': 4}, 'output': 0},\n",
       " {'input': {'cards': [3, -1, -9, -127], 'query': -127}, 'output': 3},\n",
       " {'input': {'cards': [6], 'query': 6}, 'output': 0},\n",
       " {'input': {'cards': [9, 7, 5, 2, -9], 'query': 4}, 'output': -1},\n",
       " {'input': {'cards': [], 'query': 7}, 'output': -1},\n",
       " {'input': {'cards': [8, 8, 6, 6, 6, 6, 6, 3, 2, 2, 2, 0, 0, 0], 'query': 3},\n",
       "  'output': 7},\n",
       " {'input': {'cards': [8, 8, 6, 6, 6, 6, 6, 3, 2, 2, 2, 0, 0, 0], 'query': 6},\n",
       "  'output': 2}]"
      ]
     },
     "execution_count": 18,
     "metadata": {},
     "output_type": "execute_result"
    }
   ],
   "source": [
    "tests"
   ]
  },
  {
   "cell_type": "markdown",
   "id": "1ec7e0f1",
   "metadata": {},
   "source": [
    "Great, now we have a fairly exhaustive set of test cases to evaluate our function.\n",
    "\n",
    "Creating test cases beforehand allows you to identify different variations and edge cases in advance so that can make sure to handle them while writing code. Sometimes, you may start out confused, but the solution will reveal itself as you try to come up with interesting test cases.\n",
    "\n",
    "**Tip:** Don't stress it if you can't come up with an exhaustive list of test cases though. You can come back and to this section and add more test cases as you discover them. Coming up with good test cases is a skill that takes practice.  "
   ]
  },
  {
   "cell_type": "markdown",
   "id": "b560ef4f",
   "metadata": {},
   "source": [
    "#### 3. Come up with a correct solution for the problem. State it in plain English.\n",
    "\n",
    "Our first goal should always be to come up with a *correct* solution to the probelm, which may necessariy be the most *efficient* solution. The simplest or the most obvious solution to a problem, which generally involves checking all possible answers is called *brute force* solution.\n",
    "\n",
    "In this problem, coming up with a correct solution is quite easy. We can simply loop through all the cards one by one and pick the index of the first occurance of `query` in the `cards`. Here is how we might implement it:\n",
    "\n",
    "1. Create a variable `position` with the value `0`.\n",
    "1. Check whether the number at index `position` in `cards` equals `query`.\n",
    "1. If it does, `position` is the answer and can be returned from the function.\n",
    "1. If not, increment the value of `position` by 1, and repeat the steps 2 to 5 till we reach the last position.\n",
    "1. If the number was not found, return `-1`.\n",
    "\n",
    "***************\n",
    "An **algorithm** is simply a list of statements which can be converted into code and executed by a computer on different sets of inputs.\n",
    "\n",
    "***************\n",
    "**Tip:** Always try to express (speak or write) the algorithm in your own words before you atart coding. It can be as brief or detailed as you require it to be. Writing is a great tool for thinking clearly. It's likely that you will find some parts of the solution difficult to express, whcih suggests that you are probably unable to think about it clearly. The more clearly you are able to express your thoughts, the easier it will be for you to turn into code."
   ]
  },
  {
   "cell_type": "markdown",
   "id": "6218623a",
   "metadata": {},
   "source": [
    "#### 4. Implement the solution and test it using example inputs. Fix bugs, if any.\n",
    "\n",
    "Phew! We are finally ready to implement our solution."
   ]
  },
  {
   "cell_type": "code",
   "execution_count": 19,
   "id": "7ae5dc8a",
   "metadata": {},
   "outputs": [],
   "source": [
    "def locate_card(cards, query):\n",
    "    # Create a variable position with the value 0\n",
    "    position = 0\n",
    "    \n",
    "    # Set up a loop for repetition\n",
    "    while True:\n",
    "        \n",
    "        # Check if the element at the current position matches the query\n",
    "        if cards[position] == query:\n",
    "            \n",
    "            # Answer found!  Return and exit\n",
    "            return position\n",
    "        # Increment the position\n",
    "        position += 1\n",
    "        \n",
    "        # Check if we have reached the end of the array\n",
    "        if position == len(cards):\n",
    "            \n",
    "            # Number not found, return -1\n",
    "            return -1"
   ]
  },
  {
   "cell_type": "markdown",
   "id": "ce79d47a",
   "metadata": {},
   "source": [
    "Let's test our function with the first test case"
   ]
  },
  {
   "cell_type": "code",
   "execution_count": 20,
   "id": "28f9adb8",
   "metadata": {},
   "outputs": [
    {
     "data": {
      "text/plain": [
       "{'input': {'cards': [13, 11, 10, 7, 4, 3, 1, 0], 'query': 7}, 'output': 3}"
      ]
     },
     "execution_count": 20,
     "metadata": {},
     "output_type": "execute_result"
    }
   ],
   "source": [
    "test"
   ]
  },
  {
   "cell_type": "code",
   "execution_count": 21,
   "id": "0496a1a0",
   "metadata": {},
   "outputs": [
    {
     "data": {
      "text/plain": [
       "3"
      ]
     },
     "execution_count": 21,
     "metadata": {},
     "output_type": "execute_result"
    }
   ],
   "source": [
    "result = locate_card(**test['input'])\n",
    "result"
   ]
  },
  {
   "cell_type": "code",
   "execution_count": 22,
   "id": "d4e13b17",
   "metadata": {},
   "outputs": [
    {
     "data": {
      "text/plain": [
       "True"
      ]
     },
     "execution_count": 22,
     "metadata": {},
     "output_type": "execute_result"
    }
   ],
   "source": [
    "output = test['output']\n",
    "result == output "
   ]
  },
  {
   "cell_type": "markdown",
   "id": "b90beffc",
   "metadata": {},
   "source": [
    "The `jovian` Python library provides a helper function `evaluate_test_case`. Apart from checking whether the function produces the expected result, it also displays the input, expected output, actaul output from the function, and the excution time of the function."
   ]
  },
  {
   "cell_type": "code",
   "execution_count": 23,
   "id": "f6835cb9",
   "metadata": {},
   "outputs": [],
   "source": [
    "from jovian.pythondsa import evaluate_test_case"
   ]
  },
  {
   "cell_type": "code",
   "execution_count": 24,
   "id": "4c279ac9",
   "metadata": {},
   "outputs": [
    {
     "name": "stdout",
     "output_type": "stream",
     "text": [
      "\n",
      "Input:\n",
      "{'cards': [13, 11, 10, 7, 4, 3, 1, 0], 'query': 7}\n",
      "\n",
      "Expected Output:\n",
      "3\n",
      "\n",
      "\n",
      "Actual Output:\n",
      "3\n",
      "\n",
      "Execution Time:\n",
      "0.004 ms\n",
      "\n",
      "Test Result:\n",
      "\u001b[92mPASSED\u001b[0m\n",
      "\n"
     ]
    },
    {
     "data": {
      "text/plain": [
       "(3, True, 0.004)"
      ]
     },
     "execution_count": 24,
     "metadata": {},
     "output_type": "execute_result"
    }
   ],
   "source": [
    "evaluate_test_case(locate_card, test)"
   ]
  },
  {
   "cell_type": "markdown",
   "id": "1b5cc384",
   "metadata": {},
   "source": [
    "While it may seem like we have a working solution based on the above test, we can't be sure about it until we test the function with all the test cases.\n",
    "\n",
    "We can use the `evaluate_test_cases` (plural) function from the jovian library to test our function on al the test cases with a single line of code."
   ]
  },
  {
   "cell_type": "code",
   "execution_count": 25,
   "id": "656efaf6",
   "metadata": {},
   "outputs": [],
   "source": [
    "from jovian.pythondsa import evaluate_test_cases"
   ]
  },
  {
   "cell_type": "code",
   "execution_count": 31,
   "id": "58e05021",
   "metadata": {},
   "outputs": [
    {
     "name": "stdout",
     "output_type": "stream",
     "text": [
      "\n",
      "\u001b[1mTEST CASE #0\u001b[0m\n",
      "\n",
      "Input:\n",
      "{'cards': [13, 11, 10, 7, 4, 3, 1, 0], 'query': 7}\n",
      "\n",
      "Expected Output:\n",
      "3\n",
      "\n",
      "\n",
      "Actual Output:\n",
      "3\n",
      "\n",
      "Execution Time:\n",
      "0.007 ms\n",
      "\n",
      "Test Result:\n",
      "\u001b[92mPASSED\u001b[0m\n",
      "\n",
      "\n",
      "\u001b[1mTEST CASE #1\u001b[0m\n",
      "\n",
      "Input:\n",
      "{'cards': [4, 2, 1, -1], 'query': 4}\n",
      "\n",
      "Expected Output:\n",
      "0\n",
      "\n",
      "\n",
      "Actual Output:\n",
      "0\n",
      "\n",
      "Execution Time:\n",
      "0.003 ms\n",
      "\n",
      "Test Result:\n",
      "\u001b[92mPASSED\u001b[0m\n",
      "\n",
      "\n",
      "\u001b[1mTEST CASE #2\u001b[0m\n",
      "\n",
      "Input:\n",
      "{'cards': [3, -1, -9, -127], 'query': -127}\n",
      "\n",
      "Expected Output:\n",
      "3\n",
      "\n",
      "\n",
      "Actual Output:\n",
      "3\n",
      "\n",
      "Execution Time:\n",
      "0.005 ms\n",
      "\n",
      "Test Result:\n",
      "\u001b[92mPASSED\u001b[0m\n",
      "\n",
      "\n",
      "\u001b[1mTEST CASE #3\u001b[0m\n",
      "\n",
      "Input:\n",
      "{'cards': [6], 'query': 6}\n",
      "\n",
      "Expected Output:\n",
      "0\n",
      "\n",
      "\n",
      "Actual Output:\n",
      "0\n",
      "\n",
      "Execution Time:\n",
      "0.003 ms\n",
      "\n",
      "Test Result:\n",
      "\u001b[92mPASSED\u001b[0m\n",
      "\n",
      "\n",
      "\u001b[1mTEST CASE #4\u001b[0m\n",
      "\n",
      "Input:\n",
      "{'cards': [9, 7, 5, 2, -9], 'query': 4}\n",
      "\n",
      "Expected Output:\n",
      "-1\n",
      "\n",
      "\n",
      "Actual Output:\n",
      "-1\n",
      "\n",
      "Execution Time:\n",
      "0.005 ms\n",
      "\n",
      "Test Result:\n",
      "\u001b[92mPASSED\u001b[0m\n",
      "\n",
      "\n",
      "\u001b[1mTEST CASE #5\u001b[0m\n"
     ]
    },
    {
     "ename": "IndexError",
     "evalue": "list index out of range",
     "output_type": "error",
     "traceback": [
      "\u001b[1;31m---------------------------------------------------------------------------\u001b[0m",
      "\u001b[1;31mIndexError\u001b[0m                                Traceback (most recent call last)",
      "\u001b[1;32m<ipython-input-31-2111dddaa84c>\u001b[0m in \u001b[0;36m<module>\u001b[1;34m\u001b[0m\n\u001b[1;32m----> 1\u001b[1;33m \u001b[0mevaluate_test_cases\u001b[0m\u001b[1;33m(\u001b[0m\u001b[0mlocate_card\u001b[0m\u001b[1;33m,\u001b[0m \u001b[0mtests\u001b[0m\u001b[1;33m)\u001b[0m\u001b[1;33m\u001b[0m\u001b[1;33m\u001b[0m\u001b[0m\n\u001b[0m",
      "\u001b[1;32m~\\Anaconda3\\lib\\site-packages\\jovian\\pythondsa\\__init__.py\u001b[0m in \u001b[0;36mevaluate_test_cases\u001b[1;34m(function, test_cases, error_only, summary_only)\u001b[0m\n\u001b[0;32m     85\u001b[0m         \u001b[1;32mif\u001b[0m \u001b[1;32mnot\u001b[0m \u001b[0merror_only\u001b[0m\u001b[1;33m:\u001b[0m\u001b[1;33m\u001b[0m\u001b[1;33m\u001b[0m\u001b[0m\n\u001b[0;32m     86\u001b[0m             \u001b[0mprint\u001b[0m\u001b[1;33m(\u001b[0m\u001b[1;34m\"\\n\\033[1mTEST CASE #{}\\033[0m\"\u001b[0m\u001b[1;33m.\u001b[0m\u001b[0mformat\u001b[0m\u001b[1;33m(\u001b[0m\u001b[0mi\u001b[0m\u001b[1;33m)\u001b[0m\u001b[1;33m)\u001b[0m\u001b[1;33m\u001b[0m\u001b[1;33m\u001b[0m\u001b[0m\n\u001b[1;32m---> 87\u001b[1;33m         \u001b[0mresult\u001b[0m \u001b[1;33m=\u001b[0m \u001b[0mevaluate_test_case\u001b[0m\u001b[1;33m(\u001b[0m\u001b[0mfunction\u001b[0m\u001b[1;33m,\u001b[0m \u001b[0mtest_case\u001b[0m\u001b[1;33m,\u001b[0m \u001b[0mdisplay\u001b[0m\u001b[1;33m=\u001b[0m\u001b[1;32mFalse\u001b[0m\u001b[1;33m)\u001b[0m\u001b[1;33m\u001b[0m\u001b[1;33m\u001b[0m\u001b[0m\n\u001b[0m\u001b[0;32m     88\u001b[0m         \u001b[0mresults\u001b[0m\u001b[1;33m.\u001b[0m\u001b[0mappend\u001b[0m\u001b[1;33m(\u001b[0m\u001b[0mresult\u001b[0m\u001b[1;33m)\u001b[0m\u001b[1;33m\u001b[0m\u001b[1;33m\u001b[0m\u001b[0m\n\u001b[0;32m     89\u001b[0m         \u001b[1;32mif\u001b[0m \u001b[0merror_only\u001b[0m \u001b[1;32mand\u001b[0m \u001b[1;32mnot\u001b[0m \u001b[0mresult\u001b[0m\u001b[1;33m[\u001b[0m\u001b[1;36m1\u001b[0m\u001b[1;33m]\u001b[0m\u001b[1;33m:\u001b[0m\u001b[1;33m\u001b[0m\u001b[1;33m\u001b[0m\u001b[0m\n",
      "\u001b[1;32m~\\Anaconda3\\lib\\site-packages\\jovian\\pythondsa\\__init__.py\u001b[0m in \u001b[0;36mevaluate_test_case\u001b[1;34m(function, test_case, display)\u001b[0m\n\u001b[0;32m     63\u001b[0m \u001b[1;33m\u001b[0m\u001b[0m\n\u001b[0;32m     64\u001b[0m     \u001b[0mstart\u001b[0m \u001b[1;33m=\u001b[0m \u001b[0mtimer\u001b[0m\u001b[1;33m(\u001b[0m\u001b[1;33m)\u001b[0m\u001b[1;33m\u001b[0m\u001b[1;33m\u001b[0m\u001b[0m\n\u001b[1;32m---> 65\u001b[1;33m     \u001b[0mactual_output\u001b[0m \u001b[1;33m=\u001b[0m \u001b[0mfunction\u001b[0m\u001b[1;33m(\u001b[0m\u001b[1;33m**\u001b[0m\u001b[0minputs\u001b[0m\u001b[1;33m)\u001b[0m\u001b[1;33m\u001b[0m\u001b[1;33m\u001b[0m\u001b[0m\n\u001b[0m\u001b[0;32m     66\u001b[0m     \u001b[0mend\u001b[0m \u001b[1;33m=\u001b[0m \u001b[0mtimer\u001b[0m\u001b[1;33m(\u001b[0m\u001b[1;33m)\u001b[0m\u001b[1;33m\u001b[0m\u001b[1;33m\u001b[0m\u001b[0m\n\u001b[0;32m     67\u001b[0m \u001b[1;33m\u001b[0m\u001b[0m\n",
      "\u001b[1;32m<ipython-input-19-ee073662cffb>\u001b[0m in \u001b[0;36mlocate_card\u001b[1;34m(cards, query)\u001b[0m\n\u001b[0;32m      7\u001b[0m \u001b[1;33m\u001b[0m\u001b[0m\n\u001b[0;32m      8\u001b[0m         \u001b[1;31m# Check if the element at the current position matches the query\u001b[0m\u001b[1;33m\u001b[0m\u001b[1;33m\u001b[0m\u001b[1;33m\u001b[0m\u001b[0m\n\u001b[1;32m----> 9\u001b[1;33m         \u001b[1;32mif\u001b[0m \u001b[0mcards\u001b[0m\u001b[1;33m[\u001b[0m\u001b[0mposition\u001b[0m\u001b[1;33m]\u001b[0m \u001b[1;33m==\u001b[0m \u001b[0mquery\u001b[0m\u001b[1;33m:\u001b[0m\u001b[1;33m\u001b[0m\u001b[1;33m\u001b[0m\u001b[0m\n\u001b[0m\u001b[0;32m     10\u001b[0m \u001b[1;33m\u001b[0m\u001b[0m\n\u001b[0;32m     11\u001b[0m             \u001b[1;31m# Answer found!  Return and exit\u001b[0m\u001b[1;33m\u001b[0m\u001b[1;33m\u001b[0m\u001b[1;33m\u001b[0m\u001b[0m\n",
      "\u001b[1;31mIndexError\u001b[0m: list index out of range"
     ]
    }
   ],
   "source": [
    "evaluate_test_cases(locate_card, tests)"
   ]
  },
  {
   "cell_type": "markdown",
   "id": "813cb784",
   "metadata": {},
   "source": [
    "Look s like the list `cards` is empty in this case, and may be root of the problem.\n",
    "\n",
    "Let's add some `print` statements within our function to print the inputs and the value of the `position` variable in each loop."
   ]
  },
  {
   "cell_type": "code",
   "execution_count": 32,
   "id": "cf9fd3e6",
   "metadata": {},
   "outputs": [],
   "source": [
    "def locate_card(cards, query):\n",
    "    position = 0\n",
    "    \n",
    "    print('cards:', cards)\n",
    "    print('query:', query)\n",
    "    \n",
    "    while True:\n",
    "        print('position:', position)\n",
    "        \n",
    "        if cards[position] == query:\n",
    "            return position\n",
    "        \n",
    "        position += 1\n",
    "        if position == len(cards):\n",
    "            return -1"
   ]
  },
  {
   "cell_type": "code",
   "execution_count": 33,
   "id": "3c404a95",
   "metadata": {},
   "outputs": [
    {
     "name": "stdout",
     "output_type": "stream",
     "text": [
      "cards: []\n",
      "query: 7\n",
      "position: 0\n"
     ]
    },
    {
     "ename": "IndexError",
     "evalue": "list index out of range",
     "output_type": "error",
     "traceback": [
      "\u001b[1;31m---------------------------------------------------------------------------\u001b[0m",
      "\u001b[1;31mIndexError\u001b[0m                                Traceback (most recent call last)",
      "\u001b[1;32m<ipython-input-33-0a13a0475841>\u001b[0m in \u001b[0;36m<module>\u001b[1;34m\u001b[0m\n\u001b[0;32m      2\u001b[0m \u001b[0mquery5\u001b[0m \u001b[1;33m=\u001b[0m \u001b[0mtests\u001b[0m\u001b[1;33m[\u001b[0m\u001b[1;36m5\u001b[0m\u001b[1;33m]\u001b[0m\u001b[1;33m[\u001b[0m\u001b[1;34m'input'\u001b[0m\u001b[1;33m]\u001b[0m\u001b[1;33m[\u001b[0m\u001b[1;34m'query'\u001b[0m\u001b[1;33m]\u001b[0m\u001b[1;33m\u001b[0m\u001b[1;33m\u001b[0m\u001b[0m\n\u001b[0;32m      3\u001b[0m \u001b[1;33m\u001b[0m\u001b[0m\n\u001b[1;32m----> 4\u001b[1;33m \u001b[0mlocate_card\u001b[0m\u001b[1;33m(\u001b[0m\u001b[0mcards5\u001b[0m\u001b[1;33m,\u001b[0m \u001b[0mquery5\u001b[0m\u001b[1;33m)\u001b[0m\u001b[1;33m\u001b[0m\u001b[1;33m\u001b[0m\u001b[0m\n\u001b[0m",
      "\u001b[1;32m<ipython-input-32-aabbbc74d5cf>\u001b[0m in \u001b[0;36mlocate_card\u001b[1;34m(cards, query)\u001b[0m\n\u001b[0;32m      8\u001b[0m         \u001b[0mprint\u001b[0m\u001b[1;33m(\u001b[0m\u001b[1;34m'position:'\u001b[0m\u001b[1;33m,\u001b[0m \u001b[0mposition\u001b[0m\u001b[1;33m)\u001b[0m\u001b[1;33m\u001b[0m\u001b[1;33m\u001b[0m\u001b[0m\n\u001b[0;32m      9\u001b[0m \u001b[1;33m\u001b[0m\u001b[0m\n\u001b[1;32m---> 10\u001b[1;33m         \u001b[1;32mif\u001b[0m \u001b[0mcards\u001b[0m\u001b[1;33m[\u001b[0m\u001b[0mposition\u001b[0m\u001b[1;33m]\u001b[0m \u001b[1;33m==\u001b[0m \u001b[0mquery\u001b[0m\u001b[1;33m:\u001b[0m\u001b[1;33m\u001b[0m\u001b[1;33m\u001b[0m\u001b[0m\n\u001b[0m\u001b[0;32m     11\u001b[0m             \u001b[1;32mreturn\u001b[0m \u001b[0mposition\u001b[0m\u001b[1;33m\u001b[0m\u001b[1;33m\u001b[0m\u001b[0m\n\u001b[0;32m     12\u001b[0m \u001b[1;33m\u001b[0m\u001b[0m\n",
      "\u001b[1;31mIndexError\u001b[0m: list index out of range"
     ]
    }
   ],
   "source": [
    "cards5 = tests[5]['input']['cards']\n",
    "query5 = tests[5]['input']['query']\n",
    "\n",
    "locate_card(cards5, query5)"
   ]
  },
  {
   "cell_type": "markdown",
   "id": "525d433f",
   "metadata": {},
   "source": [
    "Clearly, since `cards` is empty, it's not posiible to access the element at index 0. To fix this, we can check whether we've reached the end of the array before trying to access an element from it. In fact, this can be terminating condition for the `while` loop itself."
   ]
  },
  {
   "cell_type": "code",
   "execution_count": 38,
   "id": "9dd7e9d3",
   "metadata": {},
   "outputs": [],
   "source": [
    "def locate_card(cards, query):\n",
    "    position = 0\n",
    "    while position < len(cards):\n",
    "        if cards[position] == query:\n",
    "            return position\n",
    "        \n",
    "        position += 1\n",
    "        \n",
    "    return -1"
   ]
  },
  {
   "cell_type": "markdown",
   "id": "08129489",
   "metadata": {},
   "source": [
    "Let's test the failing case again. "
   ]
  },
  {
   "cell_type": "code",
   "execution_count": 35,
   "id": "b449c162",
   "metadata": {},
   "outputs": [
    {
     "data": {
      "text/plain": [
       "{'input': {'cards': [], 'query': 7}, 'output': -1}"
      ]
     },
     "execution_count": 35,
     "metadata": {},
     "output_type": "execute_result"
    }
   ],
   "source": [
    "tests[5]"
   ]
  },
  {
   "cell_type": "code",
   "execution_count": 39,
   "id": "9da4e3e0",
   "metadata": {},
   "outputs": [
    {
     "data": {
      "text/plain": [
       "-1"
      ]
     },
     "execution_count": 39,
     "metadata": {},
     "output_type": "execute_result"
    }
   ],
   "source": [
    "locate_card(cards5, query5)"
   ]
  },
  {
   "cell_type": "code",
   "execution_count": null,
   "id": "cbe576f2",
   "metadata": {},
   "outputs": [],
   "source": []
  }
 ],
 "metadata": {
  "kernelspec": {
   "display_name": "Python 3",
   "language": "python",
   "name": "python3"
  },
  "language_info": {
   "codemirror_mode": {
    "name": "ipython",
    "version": 3
   },
   "file_extension": ".py",
   "mimetype": "text/x-python",
   "name": "python",
   "nbconvert_exporter": "python",
   "pygments_lexer": "ipython3",
   "version": "3.8.8"
  }
 },
 "nbformat": 4,
 "nbformat_minor": 5
}
