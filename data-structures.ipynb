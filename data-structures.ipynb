{
 "cells": [
  {
   "cell_type": "markdown",
   "id": "33c47ce1",
   "metadata": {},
   "source": [
    "### Abstract Data Type\n",
    "\n",
    "An `abstract data type` (ADT) is an abstraction of a data structure which provides only the interface to which a data structure must adhere to.\n",
    "\n",
    "The interface does not give any specific details about how something should be  implemented or in what programming languages."
   ]
  },
  {
   "cell_type": "markdown",
   "id": "93c630bb",
   "metadata": {},
   "source": [
    "#### Examples\n",
    "\n",
    "|Abstraction (ADT) | Implementation (DS) |\n",
    "| --- | --- |\n",
    "| List | Dynamic Array, Linked List |\n",
    "| Queue | Linked List Based Queue, Array Based Queue, Stack Based Queue |\n",
    "| Map | Tree Map, Hash Map / Hash Table |\n",
    "| Vehicle | Golf Cart, Bycycle, Smart Car |"
   ]
  },
  {
   "cell_type": "markdown",
   "id": "32518504",
   "metadata": {},
   "source": [
    "### Complexity Analysis\n",
    "\n",
    "Two big questions:\n",
    "> 1. How much `time` does this algorithm need to finish?\n",
    "> 1. How much `space` does this algorithm need for its computation?\n"
   ]
  },
  {
   "cell_type": "markdown",
   "id": "585ce426",
   "metadata": {},
   "source": [
    "#### Big-O Notation\n",
    "\n",
    "Big-O Notation gives an upper bound of the complexity in the `worst` case, helping to quantify performance as the input size becomes `arbitrarily large`."
   ]
  },
  {
   "cell_type": "markdown",
   "id": "d5e4bba2",
   "metadata": {},
   "source": [
    "n - The size of the input\n",
    "\n",
    "Complexities ordered in from smallest to largest:\n",
    "\n",
    "| Complexity | Big-O Notation |\n",
    "| --- | --- |\n",
    "| Constant Time | O(1) |\n",
    "| Logarithmic Time | O(log(n)) |\n",
    "| Linear Time | O(n) |\n",
    "| Linearithmic Time | O(nlog(n)) |\n",
    "| Quadratic Time | O(n<sup>2</sup>) | \n",
    "| Cubic Time | O(n<sup>3</sup>) |\n",
    "| Exponential Time | O(b<sup>n</sup>), b>1 |\n",
    "| Fctorial Time | O(n!) |"
   ]
  },
  {
   "cell_type": "markdown",
   "id": "3a8c8d8c",
   "metadata": {},
   "source": [
    "#### Big-O Properties\n",
    "\n",
    "1. O(n+c) = O(n)\n",
    "1. O(cn) = O(n), c>0\n",
    "\n",
    "Let f be a function that describes the running time of a particular algorithm for an input of size n:\n",
    "> f(n) = 7log(n)<sup>3</sup> + 15n<sup>2</sup> + 2n<sup>3</sup> + 8\n",
    "\n",
    "O(f(n)) = **O(n<sup>3</sup>)**"
   ]
  },
  {
   "cell_type": "code",
   "execution_count": 2,
   "id": "f6d75bba",
   "metadata": {},
   "outputs": [
    {
     "name": "stdout",
     "output_type": "stream",
     "text": [
      "1.13 µs ± 593 ns per loop (mean ± std. dev. of 7 runs, 1000 loops each)\n"
     ]
    }
   ],
   "source": [
    "%%timeit -n 1000\n",
    "\n",
    "# 1. Contant Time\n",
    "i = 0\n",
    "while i < 11:\n",
    "    i += 1"
   ]
  },
  {
   "cell_type": "code",
   "execution_count": 7,
   "id": "31becc4a",
   "metadata": {},
   "outputs": [
    {
     "name": "stdout",
     "output_type": "stream",
     "text": [
      "11.8 µs ± 1.24 µs per loop (mean ± std. dev. of 7 runs, 100000 loops each)\n"
     ]
    }
   ],
   "source": [
    "%%timeit\n",
    "\n",
    "# 2. Linear Time\n",
    "n = 516\n",
    "i = 0\n",
    "while i < n:\n",
    "    i += 3"
   ]
  },
  {
   "cell_type": "code",
   "execution_count": 8,
   "id": "f99b2761",
   "metadata": {},
   "outputs": [
    {
     "name": "stdout",
     "output_type": "stream",
     "text": [
      "38.9 µs ± 10.1 µs per loop (mean ± std. dev. of 7 runs, 10000 loops each)\n"
     ]
    }
   ],
   "source": [
    "%%timeit\n",
    "\n",
    "# 2. Linear Time\n",
    "n = 516\n",
    "i = 0\n",
    "while i < n:\n",
    "    i += 1"
   ]
  },
  {
   "cell_type": "markdown",
   "id": "aef3846a",
   "metadata": {},
   "source": [
    "Example 1 of the linear time finishes the computation 3 times faster than example 2."
   ]
  },
  {
   "cell_type": "code",
   "execution_count": 12,
   "id": "5eae89cc",
   "metadata": {},
   "outputs": [
    {
     "name": "stdout",
     "output_type": "stream",
     "text": [
      "17.8 ms ± 1.43 ms per loop (mean ± std. dev. of 7 runs, 10 loops each)\n"
     ]
    }
   ],
   "source": [
    "%%timeit\n",
    "\n",
    "# 3. Quadratic Time\n",
    "n = 516\n",
    "i = 0\n",
    "while i < n:\n",
    "    j = 0\n",
    "    while j < n:\n",
    "        j += 1\n",
    "    i += 1"
   ]
  },
  {
   "cell_type": "code",
   "execution_count": 13,
   "id": "caff3a0e",
   "metadata": {},
   "outputs": [
    {
     "name": "stdout",
     "output_type": "stream",
     "text": [
      "8.62 ms ± 922 µs per loop (mean ± std. dev. of 7 runs, 100 loops each)\n"
     ]
    }
   ],
   "source": [
    "%%timeit\n",
    "\n",
    "# 3. Quadratic Time\n",
    "n = 516\n",
    "i = 0\n",
    "while i < n:\n",
    "    j = i\n",
    "    while j < n:\n",
    "        j += 1\n",
    "    i += 1"
   ]
  },
  {
   "cell_type": "code",
   "execution_count": null,
   "id": "9d7b724f",
   "metadata": {},
   "outputs": [],
   "source": []
  }
 ],
 "metadata": {
  "kernelspec": {
   "display_name": "Python 3",
   "language": "python",
   "name": "python3"
  },
  "language_info": {
   "codemirror_mode": {
    "name": "ipython",
    "version": 3
   },
   "file_extension": ".py",
   "mimetype": "text/x-python",
   "name": "python",
   "nbconvert_exporter": "python",
   "pygments_lexer": "ipython3",
   "version": "3.8.8"
  }
 },
 "nbformat": 4,
 "nbformat_minor": 5
}
